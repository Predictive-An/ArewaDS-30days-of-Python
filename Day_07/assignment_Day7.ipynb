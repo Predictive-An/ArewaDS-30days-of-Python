{
 "cells": [
  {
   "cell_type": "markdown",
   "metadata": {},
   "source": [
    "# Exercises: Day 7"
   ]
  },
  {
   "cell_type": "markdown",
   "metadata": {},
   "source": [
    "## Sets"
   ]
  },
  {
   "cell_type": "markdown",
   "metadata": {},
   "source": [
    "### Exercises: Level 1"
   ]
  },
  {
   "cell_type": "code",
   "execution_count": 4,
   "metadata": {},
   "outputs": [
    {
     "name": "stdout",
     "output_type": "stream",
     "text": [
      "Length of it_companies: 7\n",
      "Updated it_companies after adding 'Twitter': {'Twitter', 'IBM', 'Facebook', 'Google', 'Oracle', 'Apple', 'Amazon', 'Microsoft'}\n",
      "Updated it_companies after adding multiple companies: {'Twitter', 'IBM', 'Facebook', 'Google', 'Oracle', 'Instagram', 'Snapchat', 'Apple', 'LinkedIn', 'Amazon', 'Microsoft'}\n",
      "Updated it_companies after removing 'Snapchat': {'Twitter', 'IBM', 'Facebook', 'Google', 'Oracle', 'Instagram', 'Apple', 'LinkedIn', 'Amazon', 'Microsoft'}\n"
     ]
    }
   ],
   "source": [
    "#1\n",
    "it_companies = {'Facebook', 'Google', 'Microsoft', 'Apple', 'IBM', 'Oracle', 'Amazon'}\n",
    "length_of_it_companies = len(it_companies)\n",
    "print(\"Length of it_companies:\", length_of_it_companies)\n",
    "\n",
    "#2 Add 'Twitter' to it_companies\n",
    "it_companies.add('Twitter')\n",
    "print(\"Updated it_companies after adding 'Twitter':\", it_companies)\n",
    "\n",
    "#3 Insert multiple IT companies at once to the set it_companies\n",
    "it_companies.update({'LinkedIn', 'Instagram', 'Snapchat'})\n",
    "print(\"Updated it_companies after adding multiple companies:\", it_companies)\n",
    "\n",
    "#4 Remove one of the companies from the set it_companies\n",
    "it_companies.remove('Snapchat')\n",
    "print(\"Updated it_companies after removing 'Snapchat':\", it_companies)\n",
    "\n",
    "#5 Difference between remove and discard:\n",
    "# The remove method raises an error if the specified element is not present, while discard does not.\n",
    "# Example:\n",
    "# it_companies.remove('Discord')  # This would raise a KeyError if the element is not found\n",
    "# it_companies.discard('Discord')  # This would not raise an error if the element is not found\n"
   ]
  },
  {
   "cell_type": "markdown",
   "metadata": {},
   "source": [
    "### Exercises: Level 2"
   ]
  },
  {
   "cell_type": "code",
   "execution_count": 5,
   "metadata": {},
   "outputs": [
    {
     "name": "stdout",
     "output_type": "stream",
     "text": [
      "Union of A and B: {19, 20, 22, 24, 25, 26, 27, 28}\n",
      "Intersection of A and B: {19, 20, 22, 24, 25, 26}\n",
      "Is A a subset of B? True\n",
      "Are A and B disjoint sets? False\n",
      "Join A with B: {19, 20, 22, 24, 25, 26, 27, 28}\n",
      "Join B with A: {19, 20, 22, 24, 25, 26, 27, 28}\n",
      "Symmetric Difference between A and B: {27, 28}\n"
     ]
    },
    {
     "ename": "NameError",
     "evalue": "name 'A' is not defined",
     "output_type": "error",
     "traceback": [
      "\u001b[0;31m---------------------------------------------------------------------------\u001b[0m",
      "\u001b[0;31mNameError\u001b[0m                                 Traceback (most recent call last)",
      "Cell \u001b[0;32mIn[5], line 35\u001b[0m\n\u001b[1;32m     31\u001b[0m \u001b[38;5;28;01mdel\u001b[39;00m A\n\u001b[1;32m     32\u001b[0m \u001b[38;5;28;01mdel\u001b[39;00m B\n\u001b[0;32m---> 35\u001b[0m \u001b[38;5;28mprint\u001b[39m(\u001b[43mA\u001b[49m)  \u001b[38;5;66;03m# This will raise an error as the set A is deleted\u001b[39;00m\n\u001b[1;32m     36\u001b[0m \u001b[38;5;28mprint\u001b[39m(B)  \u001b[38;5;66;03m# This will raise an error as the set B is deleted\u001b[39;00m\n",
      "\u001b[0;31mNameError\u001b[0m: name 'A' is not defined"
     ]
    }
   ],
   "source": [
    "#1\n",
    "A = {19, 22, 24, 20, 25, 26}\n",
    "B = {19, 22, 20, 25, 26, 24, 28, 27}\n",
    "\n",
    "joined_set = A.union(B)\n",
    "print(\"Union of A and B:\", joined_set)\n",
    "\n",
    "#2\n",
    "intersection_set = A.intersection(B)\n",
    "print(\"Intersection of A and B:\", intersection_set)\n",
    "\n",
    "#3 Is A subset of B\n",
    "is_subset = A.issubset(B)\n",
    "print(\"Is A a subset of B?\", is_subset)\n",
    "\n",
    "#4 Are A and B disjoint sets\n",
    "are_disjoint = A.isdisjoint(B)\n",
    "print(\"Are A and B disjoint sets?\", are_disjoint)\n",
    "\n",
    "#5 Join A with B and B with A\n",
    "joined_A_with_B = A.union(B)\n",
    "joined_B_with_A = B.union(A)\n",
    "print(\"Join A with B:\", joined_A_with_B)\n",
    "print(\"Join B with A:\", joined_B_with_A)\n",
    "\n",
    "#6 What is the symmetric difference between A and B\n",
    "symmetric_difference_set = A.symmetric_difference(B)\n",
    "print(\"Symmetric Difference between A and B:\", symmetric_difference_set)\n",
    "\n",
    "#7 Delete the sets completely\n",
    "del A\n",
    "del B\n",
    "\n",
    "\n",
    "print(A)  # This will raise an error as the set A is deleted\n",
    "print(B)  # This will raise an error as the set B is deleted\n"
   ]
  },
  {
   "cell_type": "markdown",
   "metadata": {},
   "source": [
    "### Exercises: Level 3"
   ]
  },
  {
   "cell_type": "code",
   "execution_count": 1,
   "metadata": {},
   "outputs": [
    {
     "name": "stdout",
     "output_type": "stream",
     "text": [
      "Length of List: 8\n",
      "Length of Set: 5\n",
      "The list is bigger.\n"
     ]
    }
   ],
   "source": [
    "#1\n",
    "ages = [22, 19, 24, 25, 26, 24, 25, 24]\n",
    "ages_set = set(ages)\n",
    "\n",
    "# Comparing the length of the list and the set\n",
    "length_of_list = len(ages)\n",
    "length_of_set = len(ages_set)\n",
    "\n",
    "print(\"Length of List:\", length_of_list)\n",
    "print(\"Length of Set:\", length_of_set)\n",
    "if length_of_list > length_of_set:\n",
    "    print(\"The list is bigger.\")\n",
    "elif length_of_set > length_of_list:\n",
    "    print(\"The set is bigger.\")\n",
    "else:\n",
    "    print(\"The list and set have the same length.\")\n"
   ]
  },
  {
   "cell_type": "code",
   "execution_count": 3,
   "metadata": {},
   "outputs": [
    {
     "name": "stdout",
     "output_type": "stream",
     "text": [
      "String: A string is a sequence of characters. It is immutable, meaning you cannot modify its contents after creation.\n",
      "List: A list is a mutable sequence of elements. You can add, remove, or modify elements in a list after its creation.\n",
      "Tuple: A tuple is an immutable sequence of elements. Once created, you cannot change its contents.\n",
      "Set: A set is an unordered collection of unique elements. It does not allow duplicate values.\n"
     ]
    }
   ],
   "source": [
    "#2 \n",
    "\n",
    "diff =  \"\"\"String: A string is a sequence of characters. It is immutable, meaning you cannot modify its contents after creation.\n",
    "List: A list is a mutable sequence of elements. You can add, remove, or modify elements in a list after its creation.\n",
    "Tuple: A tuple is an immutable sequence of elements. Once created, you cannot change its contents.\n",
    "Set: A set is an unordered collection of unique elements. It does not allow duplicate values.\"\"\"\n",
    "print(diff)"
   ]
  },
  {
   "cell_type": "code",
   "execution_count": 2,
   "metadata": {},
   "outputs": [
    {
     "name": "stdout",
     "output_type": "stream",
     "text": [
      "Unique Words: {'am', 'teach', 'love', 'and', 'inspire', 'teacher', 'to', 'I', 'people.', 'a'}\n",
      "Number of Unique Words: 10\n"
     ]
    }
   ],
   "source": [
    "#3\n",
    "sentence = \"I am a teacher and I love to inspire and teach people.\"\n",
    "unique_words = set(sentence.split())\n",
    "num_unique_words = len(unique_words)\n",
    "\n",
    "print(\"Unique Words:\", unique_words)\n",
    "print(\"Number of Unique Words:\", num_unique_words)\n"
   ]
  },
  {
   "cell_type": "code",
   "execution_count": null,
   "metadata": {},
   "outputs": [],
   "source": []
  }
 ],
 "metadata": {
  "kernelspec": {
   "display_name": "Python 3",
   "language": "python",
   "name": "python3"
  },
  "language_info": {
   "codemirror_mode": {
    "name": "ipython",
    "version": 3
   },
   "file_extension": ".py",
   "mimetype": "text/x-python",
   "name": "python",
   "nbconvert_exporter": "python",
   "pygments_lexer": "ipython3",
   "version": "3.8.18"
  }
 },
 "nbformat": 4,
 "nbformat_minor": 2
}
