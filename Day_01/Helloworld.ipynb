{
 "cells": [
  {
   "cell_type": "markdown",
   "metadata": {},
   "source": [
    "# Excercises - Day 1"
   ]
  },
  {
   "cell_type": "markdown",
   "metadata": {},
   "source": [
    "### Excercise: Level 1"
   ]
  },
  {
   "cell_type": "code",
   "execution_count": 6,
   "metadata": {},
   "outputs": [
    {
     "name": "stdout",
     "output_type": "stream",
     "text": [
      "Python 3.8.18\n"
     ]
    }
   ],
   "source": [
    "#1 Checking Python version\n",
    "!python --version"
   ]
  },
  {
   "cell_type": "code",
   "execution_count": 9,
   "metadata": {},
   "outputs": [
    {
     "name": "stdout",
     "output_type": "stream",
     "text": [
      "7\n",
      "-1\n",
      "12\n",
      "3\n",
      "0.75\n",
      "81\n",
      "0\n"
     ]
    }
   ],
   "source": [
    "#2 Operations for operand 3 and $\n",
    "print(3+4)        #addition\n",
    "print(3-4)        #subtraction\n",
    "print(3*4)        #multiplication\n",
    "print(3%4)        #modulus\n",
    "print(3/4)        #division\n",
    "print(3**4)       #exponential\n",
    "print(3//4)       #floor divsion operators"
   ]
  },
  {
   "cell_type": "code",
   "execution_count": 10,
   "metadata": {},
   "outputs": [
    {
     "name": "stdout",
     "output_type": "stream",
     "text": [
      "Nana Firdausi\n",
      "Abdulrahim\n",
      "Nigeria\n",
      "I am enjoying 30 days of python\n"
     ]
    }
   ],
   "source": [
    "#3 Working with strings\n",
    "print(\"Nana Firdausi\")\n",
    "print(\"Abdulrahim\")\n",
    "print(\"Nigeria\")\n",
    "print(\"I am enjoying 30 days of python\")"
   ]
  },
  {
   "cell_type": "code",
   "execution_count": 12,
   "metadata": {},
   "outputs": [
    {
     "name": "stdout",
     "output_type": "stream",
     "text": [
      "<class 'int'>\n",
      "<class 'float'>\n",
      "<class 'float'>\n",
      "<class 'complex'>\n",
      "<class 'list'>\n",
      "<class 'str'>\n",
      "<class 'str'>\n",
      "<class 'str'>\n"
     ]
    }
   ],
   "source": [
    "#4 Data types\n",
    "print(type(10))         #int\n",
    "print(type(9.5))         #float\n",
    "print(type(3.14))         #float\n",
    "print(type(4-4j))         #complex\n",
    "print(type(['Asabeneh', 'Python', 'Finland']))         #list\n",
    "print(type(\"Nana Firdausi\"))         #string\n",
    "print(type(\"Abdulrahim\"))         #string\n",
    "print(type(\"Nigeria\"))         #string"
   ]
  },
  {
   "cell_type": "markdown",
   "metadata": {},
   "source": [
    "### Excercise: Level 3"
   ]
  },
  {
   "cell_type": "code",
   "execution_count": 6,
   "metadata": {},
   "outputs": [
    {
     "name": "stdout",
     "output_type": "stream",
     "text": [
      "<class 'int'>\n",
      "<class 'float'>\n",
      "<class 'complex'>\n",
      "<class 'str'>\n",
      "<class 'bool'>\n",
      "<class 'list'>\n",
      "<class 'tuple'>\n",
      "<class 'set'>\n",
      "<class 'dict'>\n"
     ]
    }
   ],
   "source": [
    "#1 Data types example\n",
    "# Number: Integer\n",
    "integer_variable = 42\n",
    "\n",
    "# Number: Float\n",
    "float_variable = 3.14\n",
    "\n",
    "# Number: Complex\n",
    "complex_variable = 2 + 5j\n",
    "\n",
    "# String\n",
    "string_variable = \"Hello, Python!\"\n",
    "\n",
    "# Boolean\n",
    "boolean_variable = True\n",
    "\n",
    "# List\n",
    "list_variable = [1, 2, 3, 4, 5]\n",
    "\n",
    "# Tuple\n",
    "tuple_variable = (10, 20, 30)\n",
    "\n",
    "# Set\n",
    "set_variable = {1, 2, 3, 4, 5}\n",
    "\n",
    "# Dictionary\n",
    "dictionary_variable = {'name': 'John', 'age': 25, 'city': 'New York'}\n",
    "\n",
    "# Printing the variables\n",
    "print(type(integer_variable))\n",
    "print(type(float_variable))\n",
    "print(type(complex_variable))\n",
    "print(type(string_variable))\n",
    "print(type(boolean_variable))\n",
    "print(type(list_variable))\n",
    "print(type(tuple_variable))\n",
    "print(type(set_variable))\n",
    "print(type(dictionary_variable))\n"
   ]
  },
  {
   "cell_type": "code",
   "execution_count": 1,
   "metadata": {},
   "outputs": [
    {
     "name": "stdout",
     "output_type": "stream",
     "text": [
      "The Euclidean distance between (2, 3) and (10, 8) is: 9.433981132056603\n"
     ]
    }
   ],
   "source": [
    "#2 Euclidian Distance\n",
    "import math\n",
    "\n",
    "# Coordinates of the two points\n",
    "x1, y1 = 2, 3\n",
    "x2, y2 = 10, 8\n",
    "\n",
    "# Calculate Euclidean distance\n",
    "distance = math.sqrt((x2 - x1)**2 + (y2 - y1)**2)\n",
    "\n",
    "print(f\"The Euclidean distance between ({x1}, {y1}) and ({x2}, {y2}) is: {distance}\")\n"
   ]
  },
  {
   "cell_type": "code",
   "execution_count": null,
   "metadata": {},
   "outputs": [],
   "source": []
  }
 ],
 "metadata": {
  "kernelspec": {
   "display_name": "Python 3",
   "language": "python",
   "name": "python3"
  },
  "language_info": {
   "codemirror_mode": {
    "name": "ipython",
    "version": 3
   },
   "file_extension": ".py",
   "mimetype": "text/x-python",
   "name": "python",
   "nbconvert_exporter": "python",
   "pygments_lexer": "ipython3",
   "version": "3.8.18"
  }
 },
 "nbformat": 4,
 "nbformat_minor": 2
}
