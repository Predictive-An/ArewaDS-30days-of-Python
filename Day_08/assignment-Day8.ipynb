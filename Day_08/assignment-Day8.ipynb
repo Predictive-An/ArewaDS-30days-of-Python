{
 "cells": [
  {
   "cell_type": "markdown",
   "metadata": {},
   "source": [
    "# Exercises: Day 8"
   ]
  },
  {
   "cell_type": "markdown",
   "metadata": {},
   "source": [
    "## Dictionaries"
   ]
  },
  {
   "cell_type": "code",
   "execution_count": 2,
   "metadata": {},
   "outputs": [],
   "source": [
    "#1\n",
    "dog={}\n",
    "#2\n",
    "dog['name'] = \"Buddy\"\n",
    "dog['color'] = \"Black\"\n",
    "dog['breed'] = \"Labrador\"\n",
    "dog['age'] = 2\n",
    "dog['legs'] = 4"
   ]
  },
  {
   "cell_type": "code",
   "execution_count": 3,
   "metadata": {},
   "outputs": [
    {
     "name": "stdout",
     "output_type": "stream",
     "text": [
      "9\n"
     ]
    }
   ],
   "source": [
    "#3\n",
    "student = {\n",
    "    'first_name': 'Nana Firdausi',\n",
    "    'last_name': 'Abdulrahim',\n",
    "    'gender': 'Female',\n",
    "    'age': 20,\n",
    "    'marital_status': 'Single',\n",
    "    'skills': ['Python', 'Excel', 'Power BI', 'Power Apps'],\n",
    "    'country': 'Nigeria',\n",
    "    'city': 'Kaduna',\n",
    "    'address': 'ii8 Adamawa road by Abeokuta Street'\n",
    "}\n",
    "\n",
    "#4\n",
    "print(len(student))"
   ]
  },
  {
   "cell_type": "code",
   "execution_count": 6,
   "metadata": {},
   "outputs": [
    {
     "name": "stdout",
     "output_type": "stream",
     "text": [
      "Skills: ['Python', 'Excel', 'Power BI', 'Power Apps']\n",
      "Data type of skills: <class 'list'>\n"
     ]
    }
   ],
   "source": [
    "#5\n",
    "skills_value = (student['skills']) \n",
    "print(\"Skills:\", skills_value)\n",
    "print(\"Data type of skills:\", type(skills_value))\n",
    "\n",
    "#6\n",
    "student['skills'].extend(['React', 'SQL'])\n"
   ]
  },
  {
   "cell_type": "code",
   "execution_count": 8,
   "metadata": {},
   "outputs": [
    {
     "name": "stdout",
     "output_type": "stream",
     "text": [
      "dict_keys(['first_name', 'last_name', 'gender', 'age', 'marital_status', 'skills', 'country', 'city', 'address'])\n"
     ]
    }
   ],
   "source": [
    "#7\n",
    "keys_list = student.keys()\n",
    "print(keys_list)\n"
   ]
  },
  {
   "cell_type": "code",
   "execution_count": 5,
   "metadata": {},
   "outputs": [
    {
     "name": "stdout",
     "output_type": "stream",
     "text": [
      "Dictionary values as a list: ['Nana Firdausi', 'Abdulrahim', 'Female', 20, 'Single', ['Python', 'Excel', 'Power BI', 'Power Apps'], 'Nigeria', 'Kaduna', 'ii8 Adamawa road by Abeokuta Street']\n"
     ]
    }
   ],
   "source": [
    "#8\n",
    "values_list = list(student.values())\n",
    "print(\"Dictionary values as a list:\", values_list)"
   ]
  },
  {
   "cell_type": "code",
   "execution_count": 9,
   "metadata": {},
   "outputs": [
    {
     "name": "stdout",
     "output_type": "stream",
     "text": [
      "dict_items([('first_name', 'Nana Firdausi'), ('last_name', 'Abdulrahim'), ('gender', 'Female'), ('age', 20), ('marital_status', 'Single'), ('skills', ['Python', 'Excel', 'Power BI', 'Power Apps', 'React', 'SQL']), ('country', 'Nigeria'), ('city', 'Kaduna'), ('address', 'ii8 Adamawa road by Abeokuta Street')])\n",
      "dict_items([('name', 'Buddy'), ('color', 'Black'), ('breed', 'Labrador'), ('age', 2), ('legs', 4)])\n"
     ]
    }
   ],
   "source": [
    "#9\n",
    "print(student.items())\n",
    "print(dog.items())"
   ]
  },
  {
   "cell_type": "code",
   "execution_count": 11,
   "metadata": {},
   "outputs": [
    {
     "name": "stdout",
     "output_type": "stream",
     "text": [
      "{'first_name': 'Nana Firdausi', 'last_name': 'Abdulrahim', 'gender': 'Female', 'age': 20, 'marital_status': 'Single', 'skills': ['Python', 'Excel', 'Power BI', 'Power Apps', 'React', 'SQL'], 'country': 'Nigeria', 'city': 'Kaduna'}\n",
      "{'first_name': 'Nana Firdausi', 'last_name': 'Abdulrahim', 'gender': 'Female', 'age': 20, 'marital_status': 'Single', 'skills': ['Python', 'Excel', 'Power BI', 'Power Apps', 'React', 'SQL'], 'country': 'Nigeria'}\n"
     ]
    }
   ],
   "source": [
    "#10\n",
    "print(student)\n",
    "student.popitem()\n",
    "print(student) #address is removed"
   ]
  },
  {
   "cell_type": "code",
   "execution_count": 12,
   "metadata": {},
   "outputs": [],
   "source": [
    "#11\n",
    "del dog"
   ]
  },
  {
   "cell_type": "code",
   "execution_count": null,
   "metadata": {},
   "outputs": [],
   "source": []
  }
 ],
 "metadata": {
  "kernelspec": {
   "display_name": "datascience",
   "language": "python",
   "name": "python3"
  },
  "language_info": {
   "codemirror_mode": {
    "name": "ipython",
    "version": 3
   },
   "file_extension": ".py",
   "mimetype": "text/x-python",
   "name": "python",
   "nbconvert_exporter": "python",
   "pygments_lexer": "ipython3",
   "version": "3.8.18"
  }
 },
 "nbformat": 4,
 "nbformat_minor": 2
}
