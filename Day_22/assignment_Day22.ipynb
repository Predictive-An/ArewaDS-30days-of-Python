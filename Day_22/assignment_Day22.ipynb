{
 "cells": [
  {
   "cell_type": "markdown",
   "metadata": {},
   "source": [
    "## Exercises: Day 22"
   ]
  },
  {
   "cell_type": "markdown",
   "metadata": {},
   "source": [
    "### Python Web Scraping"
   ]
  },
  {
   "cell_type": "code",
   "execution_count": 11,
   "metadata": {},
   "outputs": [
    {
     "name": "stdout",
     "output_type": "stream",
     "text": [
      "200\n"
     ]
    }
   ],
   "source": [
    "#1 \n",
    "import requests\n",
    "from bs4 import BeautifulSoup\n",
    "url = 'http://www.bu.edu/president/boston-university-facts-stats/'\n",
    "response = requests.get(url)\n",
    "status = response.status_code\n",
    "print(status)\n"
   ]
  },
  {
   "cell_type": "code",
   "execution_count": 13,
   "metadata": {},
   "outputs": [
    {
     "name": "stdout",
     "output_type": "stream",
     "text": [
      "Data has been successfully scraped and stored in bu_data.json\n"
     ]
    }
   ],
   "source": [
    "import requests\n",
    "from bs4 import BeautifulSoup\n",
    "import json\n",
    "\n",
    "def scrape_bu_website(url, output_file):\n",
    "    # Send a request to the website\n",
    "    response = requests.get(url)\n",
    "\n",
    "    # Check if the request was successful (status code 200)\n",
    "    if response.status_code == 200:\n",
    "        # Parse the HTML content using BeautifulSoup\n",
    "        soup = BeautifulSoup(response.text, 'html.parser')\n",
    "\n",
    "        # Extract data from the website (modify this part based on the structure of the website)\n",
    "        # Example: Extracting text from all paragraphs\n",
    "        paragraphs = [p.get_text() for p in soup.find_all('p')]\n",
    "\n",
    "        # Store the extracted data as a JSON file\n",
    "        with open(output_file, 'w', encoding='utf-8') as json_file:\n",
    "            json.dump(paragraphs, json_file, ensure_ascii=False, indent=2)\n",
    "        \n",
    "        print(f'Data has been successfully scraped and stored in {output_file}')\n",
    "    else:\n",
    "        print(f'Failed to retrieve data. Status code: {response.status_code}')\n",
    "\n",
    "bu_url = 'http://www.bu.edu/president/boston-university-facts-stats/'\n",
    "output_json_file = 'bu_data.json'\n",
    "\n",
    "# Call the scraping function\n",
    "scrape_bu_website(bu_url, output_json_file)\n"
   ]
  },
  {
   "cell_type": "code",
   "execution_count": 7,
   "metadata": {},
   "outputs": [
    {
     "name": "stdout",
     "output_type": "stream",
     "text": [
      "Table data has been successfully extracted and stored in uci_dataset.json\n"
     ]
    }
   ],
   "source": [
    "#2\n",
    "import requests\n",
    "from bs4 import BeautifulSoup\n",
    "import pandas as pd\n",
    "import json\n",
    "\n",
    "def extract_table_to_json(url, output_json_file):\n",
    "    # Send a request to the website\n",
    "    response = requests.get(url)\n",
    "\n",
    "    # Check if the request was successful (status code 200)\n",
    "    if response.status_code == 200:\n",
    "        # Parse the HTML content using BeautifulSoup\n",
    "        soup = BeautifulSoup(response.text, 'html.parser')\n",
    "\n",
    "        # Extract the table using pandas read_html\n",
    "        tables = pd.read_html(str(soup))\n",
    "\n",
    "        # Assuming the first table is the one you want (modify if needed)\n",
    "        if tables:\n",
    "            data_table = tables[0]\n",
    "\n",
    "            # Convert the table to JSON with each record on a new line\n",
    "            json_data = data_table.to_json(orient='records', lines=True)\n",
    "\n",
    "            # Store the JSON data in a file\n",
    "            with open(output_json_file, 'w', encoding='utf-8') as json_file:\n",
    "                json_file.write(json_data)\n",
    "\n",
    "            print(f'Table data has been successfully extracted and stored in {output_json_file}')\n",
    "        else:\n",
    "            print('No tables found on the webpage.')\n",
    "    else:\n",
    "        print(f'Failed to retrieve data. Status code: {response.status_code}')\n",
    "\n",
    "# Specify the URL and output file name\n",
    "uci_url = 'https://archive.ics.uci.edu/dataset/545/rice+cammeo+and+osmancik'\n",
    "output_json_file = 'uci_dataset.json'\n",
    "\n",
    "# Call the extraction function\n",
    "extract_table_to_json(uci_url, output_json_file)\n"
   ]
  },
  {
   "cell_type": "code",
   "execution_count": 5,
   "metadata": {},
   "outputs": [
    {
     "name": "stdout",
     "output_type": "stream",
     "text": [
      "Data has been successfully scraped and stored in presidents_data.json\n"
     ]
    }
   ],
   "source": [
    "#3\n",
    "import requests\n",
    "from bs4 import BeautifulSoup\n",
    "import json\n",
    "\n",
    "def scrape_presidents_table(url, output_json_file):\n",
    "    # Send a request to the Wikipedia page\n",
    "    response = requests.get(url)\n",
    "\n",
    "    # Check if the request was successful (status code 200)\n",
    "    if response.status_code == 200:\n",
    "        # Parse the HTML content using BeautifulSoup\n",
    "        soup = BeautifulSoup(response.text, 'html.parser')\n",
    "\n",
    "        # Find the table containing the list of Presidents (modify this based on the structure)\n",
    "        presidents_table = soup.find('table', {'class': 'wikitable'})\n",
    "\n",
    "        if presidents_table:\n",
    "            # Initialize an empty list to store the data\n",
    "            presidents_data = []\n",
    "\n",
    "            # Iterate over rows in the table\n",
    "            for row in presidents_table.find_all('tr')[1:]:  # Skip the header row\n",
    "                columns = row.find_all(['td', 'th'])\n",
    "                president_info = [col.get_text(strip=True) for col in columns]\n",
    "                presidents_data.append(president_info)\n",
    "\n",
    "            # Store the extracted data as a JSON file\n",
    "            with open(output_json_file, 'w', encoding='utf-8') as json_file:\n",
    "                json.dump(presidents_data, json_file, ensure_ascii=False, indent=2)\n",
    "\n",
    "            print(f'Data has been successfully scraped and stored in {output_json_file}')\n",
    "        else:\n",
    "            print('Presidents table not found on the webpage.')\n",
    "    else:\n",
    "        print(f'Failed to retrieve data. Status code: {response.status_code}')\n",
    "\n",
    "# Specify the URL and output file name\n",
    "wiki_url = 'https://en.wikipedia.org/wiki/List_of_presidents_of_the_United_States'\n",
    "output_json_file = 'presidents_data.json'\n",
    "\n",
    "# Call the scraping function\n",
    "scrape_presidents_table(wiki_url, output_json_file)\n"
   ]
  },
  {
   "cell_type": "code",
   "execution_count": null,
   "metadata": {},
   "outputs": [],
   "source": []
  }
 ],
 "metadata": {
  "kernelspec": {
   "display_name": "datascience",
   "language": "python",
   "name": "python3"
  },
  "language_info": {
   "codemirror_mode": {
    "name": "ipython",
    "version": 3
   },
   "file_extension": ".py",
   "mimetype": "text/x-python",
   "name": "python",
   "nbconvert_exporter": "python",
   "pygments_lexer": "ipython3",
   "version": "3.8.18"
  }
 },
 "nbformat": 4,
 "nbformat_minor": 2
}
