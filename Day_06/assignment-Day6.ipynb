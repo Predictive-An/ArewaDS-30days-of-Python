{
 "cells": [
  {
   "cell_type": "markdown",
   "metadata": {},
   "source": [
    "# Exercises: Day 6"
   ]
  },
  {
   "cell_type": "markdown",
   "metadata": {},
   "source": [
    "## Tuples"
   ]
  },
  {
   "cell_type": "markdown",
   "metadata": {},
   "source": [
    "### Exercises: Level 1"
   ]
  },
  {
   "cell_type": "code",
   "execution_count": 1,
   "metadata": {},
   "outputs": [
    {
     "name": "stdout",
     "output_type": "stream",
     "text": [
      "Empty Tuple: ()\n",
      "Sisters Tuple: ('Nabila', 'Hameedah')\n",
      "Brothers Tuple: ('Umar Faruk', 'Mustapha', 'Yusuf')\n",
      "Siblings Tuple: ('Umar Faruk', 'Mustapha', 'Yusuf', 'Nabila', 'Hameedah')\n",
      "Number of Siblings: 5\n",
      "Family Members Tuple: ('Umar Faruk', 'Mustapha', 'Yusuf', 'Nabila', 'Hameedah', 'Abdulrahim', 'Kudirat')\n"
     ]
    }
   ],
   "source": [
    "#1 Create an empty tuple\n",
    "empty_tuple = ()\n",
    "\n",
    "#2 Create a tuple containing names of sisters and brothers\n",
    "sisters = ('Nabila', 'Hameedah')\n",
    "brothers = ('Umar Faruk', 'Mustapha', 'Yusuf')\n",
    "\n",
    "#3 Join brothers and sisters tuples and assign it to siblings\n",
    "siblings = brothers + sisters\n",
    "\n",
    "#4 How many siblings do you have?\n",
    "num_siblings = len(siblings)\n",
    "\n",
    "#5 Modify the siblings tuple and add the name of your father and mother\n",
    "father_and_mother = ('Abdulrahim', 'Kudirat')\n",
    "family_members = siblings + father_and_mother\n",
    "\n",
    "#results\n",
    "print(\"Empty Tuple:\", empty_tuple)\n",
    "print(\"Sisters Tuple:\", sisters)\n",
    "print(\"Brothers Tuple:\", brothers)\n",
    "print(\"Siblings Tuple:\", siblings)\n",
    "print(\"Number of Siblings:\", num_siblings)\n",
    "print(\"Family Members Tuple:\", family_members)\n"
   ]
  },
  {
   "cell_type": "markdown",
   "metadata": {},
   "source": [
    "### Exercises: Level 2"
   ]
  },
  {
   "cell_type": "code",
   "execution_count": 11,
   "metadata": {},
   "outputs": [
    {
     "name": "stdout",
     "output_type": "stream",
     "text": [
      "Unpacked Siblings: ('Umar Faruk', 'Mustapha', 'Yusuf', 'Nabila', 'Hameedah')\n",
      "Unpacked Parents: ('Abdulrahim', 'Kudirat')\n",
      "Fruits Tuple: ('Apple', 'Banana', 'Orange')\n",
      "Vegetables Tuple: ('Carrot', 'Broccoli', 'Spinach')\n",
      "Animal Products Tuple: ('Chicken', 'Beef', 'Eggs')\n"
     ]
    },
    {
     "ename": "NameError",
     "evalue": "name 'food_stuff_tp' is not defined",
     "output_type": "error",
     "traceback": [
      "\u001b[0;31m---------------------------------------------------------------------------\u001b[0m",
      "\u001b[0;31mNameError\u001b[0m                                 Traceback (most recent call last)",
      "\u001b[1;32m/home/predictive_an001/projects/ArewaDS-30days-of-Python/Day_6/assignment-Day6.ipynb Cell 5\u001b[0m line \u001b[0;36m3\n\u001b[1;32m     <a href='vscode-notebook-cell://wsl%2Bubuntu-22.04/home/predictive_an001/projects/ArewaDS-30days-of-Python/Day_6/assignment-Day6.ipynb#W6sdnNjb2RlLXJlbW90ZQ%3D%3D?line=34'>35</a>\u001b[0m \u001b[39mprint\u001b[39m(\u001b[39m\"\u001b[39m\u001b[39mVegetables Tuple:\u001b[39m\u001b[39m\"\u001b[39m, vegetables)\n\u001b[1;32m     <a href='vscode-notebook-cell://wsl%2Bubuntu-22.04/home/predictive_an001/projects/ArewaDS-30days-of-Python/Day_6/assignment-Day6.ipynb#W6sdnNjb2RlLXJlbW90ZQ%3D%3D?line=35'>36</a>\u001b[0m \u001b[39mprint\u001b[39m(\u001b[39m\"\u001b[39m\u001b[39mAnimal Products Tuple:\u001b[39m\u001b[39m\"\u001b[39m, animal_products)\n\u001b[0;32m---> <a href='vscode-notebook-cell://wsl%2Bubuntu-22.04/home/predictive_an001/projects/ArewaDS-30days-of-Python/Day_6/assignment-Day6.ipynb#W6sdnNjb2RlLXJlbW90ZQ%3D%3D?line=36'>37</a>\u001b[0m \u001b[39mprint\u001b[39m(\u001b[39m\"\u001b[39m\u001b[39mFood Stuff Tuple:\u001b[39m\u001b[39m\"\u001b[39m, food_stuff_tp)  \u001b[39m# This will raise an error as the tuple is deleted\u001b[39;00m\n\u001b[1;32m     <a href='vscode-notebook-cell://wsl%2Bubuntu-22.04/home/predictive_an001/projects/ArewaDS-30days-of-Python/Day_6/assignment-Day6.ipynb#W6sdnNjb2RlLXJlbW90ZQ%3D%3D?line=37'>38</a>\u001b[0m \u001b[39mprint\u001b[39m(\u001b[39m\"\u001b[39m\u001b[39mFood Stuff List:\u001b[39m\u001b[39m\"\u001b[39m, food_stuff_lt)\n\u001b[1;32m     <a href='vscode-notebook-cell://wsl%2Bubuntu-22.04/home/predictive_an001/projects/ArewaDS-30days-of-Python/Day_6/assignment-Day6.ipynb#W6sdnNjb2RlLXJlbW90ZQ%3D%3D?line=38'>39</a>\u001b[0m \u001b[39mprint\u001b[39m(\u001b[39m\"\u001b[39m\u001b[39mMiddle Item:\u001b[39m\u001b[39m\"\u001b[39m, middle_item)\n",
      "\u001b[0;31mNameError\u001b[0m: name 'food_stuff_tp' is not defined"
     ]
    }
   ],
   "source": [
    "# Unpack siblings and parents from family_members\n",
    "family_members_siblings=family_members[0:5]\n",
    "family_members_parents=family_members[5:]\n",
    "\n",
    "#2 Create fruits, vegetables, and animal products tuples\n",
    "fruits = ('Apple', 'Banana', 'Orange')\n",
    "vegetables = ('Carrot', 'Broccoli', 'Spinach')\n",
    "animal_products = ('Chicken', 'Beef', 'Eggs')\n",
    "food_stuff_tp = fruits + vegetables + animal_products\n",
    "\n",
    "#3 Change the food_stuff_tp tuple to a food_stuff_lt list\n",
    "food_stuff_lt = list(food_stuff_tp)\n",
    "\n",
    "#4 Slice out the middle item or items from the food_stuff_tp tuple or food_stuff_lt list\n",
    "middle_index = len(food_stuff_tp) // 2\n",
    "middle_item = food_stuff_tp[middle_index] if len(food_stuff_tp) % 2 != 0 else food_stuff_tp[middle_index - 1:middle_index + 1]\n",
    "\n",
    "#5 Slice out the first three items and the last three items from the food_stuff_lt list\n",
    "first_three_items = food_stuff_lt[:3]\n",
    "last_three_items = food_stuff_lt[-3:]\n",
    "\n",
    "#6 Delete the food_stuff_tp tuple completely\n",
    "del food_stuff_tp\n",
    "\n",
    "#7 Check if an item exists in the tuple\n",
    "nordic_countries = ('Denmark', 'Finland', 'Iceland', 'Norway', 'Sweden')\n",
    "\n",
    "estonia_is_nordic = 'Estonia' in nordic_countries\n",
    "iceland_is_nordic = 'Iceland' in nordic_countries\n",
    "\n",
    "#results\n",
    "print(\"Unpacked Siblings:\", family_members_siblings)\n",
    "print(\"Unpacked Parents:\", family_members_parents)\n",
    "print(\"Fruits Tuple:\", fruits)\n",
    "print(\"Vegetables Tuple:\", vegetables)\n",
    "print(\"Animal Products Tuple:\", animal_products)\n",
    "print(\"Food Stuff Tuple:\", food_stuff_tp)  # This will raise an error as the tuple is deleted\n",
    "print(\"Food Stuff List:\", food_stuff_lt)\n",
    "print(\"Middle Item:\", middle_item)\n",
    "print(\"First Three Items:\", first_three_items)\n",
    "print(\"Last Three Items:\", last_three_items)\n",
    "print(\"Is Estonia a Nordic Country?\", estonia_is_nordic)\n",
    "print(\"Is Iceland a Nordic Country?\", iceland_is_nordic)\n"
   ]
  }
 ],
 "metadata": {
  "kernelspec": {
   "display_name": "datascience",
   "language": "python",
   "name": "python3"
  },
  "language_info": {
   "codemirror_mode": {
    "name": "ipython",
    "version": 3
   },
   "file_extension": ".py",
   "mimetype": "text/x-python",
   "name": "python",
   "nbconvert_exporter": "python",
   "pygments_lexer": "ipython3",
   "version": "3.8.0"
  }
 },
 "nbformat": 4,
 "nbformat_minor": 2
}
