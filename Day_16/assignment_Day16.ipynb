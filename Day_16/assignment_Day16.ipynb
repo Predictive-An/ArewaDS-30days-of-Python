{
 "cells": [
  {
   "cell_type": "markdown",
   "metadata": {},
   "source": [
    "# Exercise: Day 16"
   ]
  },
  {
   "cell_type": "markdown",
   "metadata": {},
   "source": [
    "## Datetime"
   ]
  },
  {
   "cell_type": "code",
   "execution_count": 1,
   "metadata": {},
   "outputs": [
    {
     "name": "stdout",
     "output_type": "stream",
     "text": [
      "Current Date and Time: 2023-12-19 14:01:30.290359\n",
      "Day: 19, Month: 12, Year: 2023\n",
      "Hour: 14, Minute: 1\n",
      "Timestamp: 1702990890.290359\n"
     ]
    }
   ],
   "source": [
    "from datetime import datetime, timedelta\n",
    "\n",
    "# 1. Get the current day, month, year, hour, minute, and timestamp\n",
    "current_datetime = datetime.now()\n",
    "current_day = current_datetime.day\n",
    "current_month = current_datetime.month\n",
    "current_year = current_datetime.year\n",
    "current_hour = current_datetime.hour\n",
    "current_minute = current_datetime.minute\n",
    "current_timestamp = current_datetime.timestamp()\n",
    "\n",
    "print(f\"Current Date and Time: {current_datetime}\")\n",
    "print(f\"Day: {current_day}, Month: {current_month}, Year: {current_year}\")\n",
    "print(f\"Hour: {current_hour}, Minute: {current_minute}\")\n",
    "print(f\"Timestamp: {current_timestamp}\")\n"
   ]
  },
  {
   "cell_type": "code",
   "execution_count": 2,
   "metadata": {},
   "outputs": [
    {
     "name": "stdout",
     "output_type": "stream",
     "text": [
      "Formatted Date: 12/19/2023, 14:01:30\n"
     ]
    }
   ],
   "source": [
    "# 2. Format the current date\n",
    "formatted_date = current_datetime.strftime(\"%m/%d/%Y, %H:%M:%S\")\n",
    "print(f\"Formatted Date: {formatted_date}\")\n"
   ]
  },
  {
   "cell_type": "code",
   "execution_count": 3,
   "metadata": {},
   "outputs": [
    {
     "name": "stdout",
     "output_type": "stream",
     "text": [
      "Converted Time: 2019-12-05 00:00:00\n"
     ]
    }
   ],
   "source": [
    "# 3. Change the time string to time\n",
    "time_string = \"5 December, 2019\"\n",
    "converted_time = datetime.strptime(time_string, \"%d %B, %Y\")\n",
    "print(f\"Converted Time: {converted_time}\")"
   ]
  },
  {
   "cell_type": "code",
   "execution_count": 4,
   "metadata": {},
   "outputs": [
    {
     "name": "stdout",
     "output_type": "stream",
     "text": [
      "Time until New Year: 12 days, 9:58:29.709641\n"
     ]
    }
   ],
   "source": [
    "# 4. Calculate the time difference between now and new year\n",
    "new_year = datetime(current_year + 1, 1, 1, 0, 0, 0)\n",
    "time_until_new_year = new_year - current_datetime\n",
    "print(f\"Time until New Year: {time_until_new_year}\")"
   ]
  },
  {
   "cell_type": "code",
   "execution_count": 5,
   "metadata": {},
   "outputs": [
    {
     "name": "stdout",
     "output_type": "stream",
     "text": [
      "Time since Epoch (1970-01-01): 19710 days, 14:01:30.290359\n"
     ]
    }
   ],
   "source": [
    "# 5. Calculate the time difference between 1 January 1970 and now\n",
    "epoch_time = datetime(1970, 1, 1, 0, 0, 0)\n",
    "time_since_epoch = current_datetime - epoch_time\n",
    "print(f\"Time since Epoch (1970-01-01): {time_since_epoch}\")"
   ]
  },
  {
   "cell_type": "code",
   "execution_count": 6,
   "metadata": {},
   "outputs": [],
   "source": [
    "# 6. Examples of using datetime module:\n",
    "#    - Time series analysis\n",
    "#    - To get a timestamp of any activities in an application\n",
    "#    - Adding posts on a blog\n",
    "\n",
    "# Example 1: Time series analysis\n",
    "# Assuming you have a list of timestamps\n",
    "timestamps = [datetime(2023, 1, 1), datetime(2023, 2, 1), datetime(2023, 3, 1)]\n",
    "# You can use these timestamps for time series analysis\n",
    "\n",
    "# Example 2: Get a timestamp for activities in an application\n",
    "user_activity_timestamp = datetime.now()\n",
    "# You can log this timestamp when a user performs an activity in your application\n",
    "\n",
    "# Example 3: Adding posts on a blog\n",
    "blog_post_timestamp = datetime.now()\n",
    "# You can timestamp each blog post to track when it was published\n"
   ]
  },
  {
   "cell_type": "code",
   "execution_count": null,
   "metadata": {},
   "outputs": [],
   "source": []
  }
 ],
 "metadata": {
  "kernelspec": {
   "display_name": "datascience",
   "language": "python",
   "name": "python3"
  },
  "language_info": {
   "codemirror_mode": {
    "name": "ipython",
    "version": 3
   },
   "file_extension": ".py",
   "mimetype": "text/x-python",
   "name": "python",
   "nbconvert_exporter": "python",
   "pygments_lexer": "ipython3",
   "version": "3.8.18"
  }
 },
 "nbformat": 4,
 "nbformat_minor": 2
}
