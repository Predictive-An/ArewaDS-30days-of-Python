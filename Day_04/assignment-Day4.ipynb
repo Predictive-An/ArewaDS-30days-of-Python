{
 "cells": [
  {
   "cell_type": "markdown",
   "metadata": {},
   "source": [
    "# Exercises Day-4"
   ]
  },
  {
   "cell_type": "markdown",
   "metadata": {},
   "source": [
    "## String"
   ]
  },
  {
   "cell_type": "code",
   "execution_count": 10,
   "metadata": {},
   "outputs": [
    {
     "name": "stdout",
     "output_type": "stream",
     "text": [
      "Thirty Days Of Python\n"
     ]
    }
   ],
   "source": [
    "#1\n",
    "string_1,string_2,string_3,string_4='Thirty','days','of','Python'\n",
    "space=' '\n",
    "full_string=string_1 + space + string_2 + space + string_3 + space + string_4\n",
    "print(full_string.title())"
   ]
  },
  {
   "cell_type": "code",
   "execution_count": 3,
   "metadata": {},
   "outputs": [
    {
     "name": "stdout",
     "output_type": "stream",
     "text": [
      "Coding For All\n"
     ]
    }
   ],
   "source": [
    "#2\n",
    "fst_string,scd_string,thrd_string='Coding','For','All'\n",
    "print(f'{fst_string} {scd_string} {thrd_string}')"
   ]
  },
  {
   "cell_type": "code",
   "execution_count": 4,
   "metadata": {},
   "outputs": [],
   "source": [
    "#3\n",
    "company='Coding For All'\n"
   ]
  },
  {
   "cell_type": "code",
   "execution_count": 5,
   "metadata": {},
   "outputs": [
    {
     "name": "stdout",
     "output_type": "stream",
     "text": [
      "Coding For All\n"
     ]
    }
   ],
   "source": [
    "#4\n",
    "print(company)"
   ]
  },
  {
   "cell_type": "code",
   "execution_count": 6,
   "metadata": {},
   "outputs": [
    {
     "name": "stdout",
     "output_type": "stream",
     "text": [
      "14\n"
     ]
    }
   ],
   "source": [
    "#5\n",
    "print(len(company))"
   ]
  },
  {
   "cell_type": "code",
   "execution_count": 7,
   "metadata": {},
   "outputs": [
    {
     "name": "stdout",
     "output_type": "stream",
     "text": [
      "CODING FOR ALL\n"
     ]
    }
   ],
   "source": [
    "#6\n",
    "print(company.upper())"
   ]
  },
  {
   "cell_type": "code",
   "execution_count": 8,
   "metadata": {},
   "outputs": [
    {
     "name": "stdout",
     "output_type": "stream",
     "text": [
      "coding for all\n"
     ]
    }
   ],
   "source": [
    "#7\n",
    "print(company.lower())"
   ]
  },
  {
   "cell_type": "code",
   "execution_count": 9,
   "metadata": {},
   "outputs": [
    {
     "name": "stdout",
     "output_type": "stream",
     "text": [
      "Coding for all\n",
      "cODING fOR aLL\n",
      "Coding For All\n"
     ]
    }
   ],
   "source": [
    "#8\n",
    "print(company.capitalize())\n",
    "print(company.swapcase())\n",
    "print(company.title())\n"
   ]
  },
  {
   "cell_type": "code",
   "execution_count": 12,
   "metadata": {},
   "outputs": [
    {
     "name": "stdout",
     "output_type": "stream",
     "text": [
      "Coding\n"
     ]
    }
   ],
   "source": [
    "#9\n",
    "print(company[0:6])"
   ]
  },
  {
   "cell_type": "code",
   "execution_count": 14,
   "metadata": {},
   "outputs": [
    {
     "name": "stdout",
     "output_type": "stream",
     "text": [
      "The word \"Coding\" is present in the string.\n",
      "The word \"Coding\" is present in the string.\n"
     ]
    }
   ],
   "source": [
    "#10\n",
    "# Using index method\n",
    "if 'Coding' in company:\n",
    "    print('The word \"Coding\" is present in the string.')\n",
    "else:\n",
    "    print('The word \"Coding\" is not present in the string.')\n",
    "\n",
    "# Using find method\n",
    "if company.find('Coding') != -1:\n",
    "    print('The word \"Coding\" is present in the string.')\n",
    "else:\n",
    "    print('The word \"Coding\" is not present in the string.')\n"
   ]
  },
  {
   "cell_type": "code",
   "execution_count": 15,
   "metadata": {},
   "outputs": [
    {
     "name": "stdout",
     "output_type": "stream",
     "text": [
      "Python for all\n"
     ]
    }
   ],
   "source": [
    "#11\n",
    "print(company.replace('Coding','Python'))"
   ]
  },
  {
   "cell_type": "code",
   "execution_count": 16,
   "metadata": {},
   "outputs": [
    {
     "name": "stdout",
     "output_type": "stream",
     "text": [
      "Coding for Everyone\n"
     ]
    }
   ],
   "source": [
    "#12\n",
    "print(company.replace('all','Everyone'))"
   ]
  },
  {
   "cell_type": "code",
   "execution_count": 17,
   "metadata": {},
   "outputs": [
    {
     "name": "stdout",
     "output_type": "stream",
     "text": [
      "['Coding', 'for', 'all']\n"
     ]
    }
   ],
   "source": [
    "#13\n",
    "print(company.split(' '))"
   ]
  },
  {
   "cell_type": "code",
   "execution_count": 18,
   "metadata": {},
   "outputs": [
    {
     "name": "stdout",
     "output_type": "stream",
     "text": [
      "['Facebook', ' Google', ' Microsoft', ' Apple', ' IBM', ' Oracle', ' Amazon']\n"
     ]
    }
   ],
   "source": [
    "#14\n",
    "dev=\"Facebook, Google, Microsoft, Apple, IBM, Oracle, Amazon\"\n",
    "print(dev.split(','))"
   ]
  },
  {
   "cell_type": "code",
   "execution_count": 19,
   "metadata": {},
   "outputs": [
    {
     "name": "stdout",
     "output_type": "stream",
     "text": [
      "C\n"
     ]
    }
   ],
   "source": [
    "#15\n",
    "print(company[0])"
   ]
  },
  {
   "cell_type": "code",
   "execution_count": 20,
   "metadata": {},
   "outputs": [
    {
     "name": "stdout",
     "output_type": "stream",
     "text": [
      "l\n"
     ]
    }
   ],
   "source": [
    "#16\n",
    "print(company[-1])"
   ]
  },
  {
   "cell_type": "code",
   "execution_count": 22,
   "metadata": {},
   "outputs": [
    {
     "name": "stdout",
     "output_type": "stream",
     "text": [
      " \n"
     ]
    }
   ],
   "source": [
    "#17\n",
    "print(company[10])\n",
    "#output is a space"
   ]
  },
  {
   "cell_type": "code",
   "execution_count": 23,
   "metadata": {},
   "outputs": [
    {
     "name": "stdout",
     "output_type": "stream",
     "text": [
      "PFE\n"
     ]
    }
   ],
   "source": [
    "#18\n",
    "company_name = 'Python For Everyone'\n",
    "acronym = ''.join(word[0] for word in company_name.split())\n",
    "print(acronym)\n",
    "\n"
   ]
  },
  {
   "cell_type": "code",
   "execution_count": 26,
   "metadata": {},
   "outputs": [
    {
     "name": "stdout",
     "output_type": "stream",
     "text": [
      "CFA\n"
     ]
    }
   ],
   "source": [
    "#19\n",
    "acronym_2 = ''.join(word[0] for word in company.split())\n",
    "print(acronym_2.upper())\n"
   ]
  },
  {
   "cell_type": "code",
   "execution_count": 31,
   "metadata": {},
   "outputs": [
    {
     "name": "stdout",
     "output_type": "stream",
     "text": [
      "0\n"
     ]
    }
   ],
   "source": [
    "#20\n",
    "position_of_C = company.index('C')\n",
    "print(position_of_C)\n"
   ]
  },
  {
   "cell_type": "code",
   "execution_count": 29,
   "metadata": {},
   "outputs": [
    {
     "name": "stdout",
     "output_type": "stream",
     "text": [
      "7\n"
     ]
    }
   ],
   "source": [
    "#21\n",
    "position_of_F = company.index('f')\n",
    "print(position_of_F)"
   ]
  },
  {
   "cell_type": "code",
   "execution_count": 30,
   "metadata": {},
   "outputs": [
    {
     "name": "stdout",
     "output_type": "stream",
     "text": [
      "13\n"
     ]
    }
   ],
   "source": [
    "#22\n",
    "position_of_l = company.rfind('l')\n",
    "print(position_of_l)"
   ]
  },
  {
   "cell_type": "code",
   "execution_count": 32,
   "metadata": {},
   "outputs": [
    {
     "name": "stdout",
     "output_type": "stream",
     "text": [
      "The position of the first occurrence of \"because\" is: 31\n"
     ]
    }
   ],
   "source": [
    "#23\n",
    "sentence = 'You cannot end a sentence with because because because is a conjunction'\n",
    "position_of_because = sentence.find('because')\n",
    "print(f'The position of the first occurrence of \"because\" is: {position_of_because}')\n"
   ]
  },
  {
   "cell_type": "code",
   "execution_count": 37,
   "metadata": {},
   "outputs": [
    {
     "name": "stdout",
     "output_type": "stream",
     "text": [
      "The position of the last occurrence of \"because\" is: 47\n"
     ]
    }
   ],
   "source": [
    "#24\n",
    "last_position_of_because = sentence.rindex('because')\n",
    "print(f'The position of the last occurrence of \"because\" is: {last_position_of_because}')\n"
   ]
  },
  {
   "cell_type": "code",
   "execution_count": 36,
   "metadata": {},
   "outputs": [
    {
     "name": "stdout",
     "output_type": "stream",
     "text": [
      "because because because\n"
     ]
    }
   ],
   "source": [
    "#25\n",
    "because_phrase = sentence[31:54]\n",
    "print(because_phrase)\n"
   ]
  },
  {
   "cell_type": "code",
   "execution_count": 38,
   "metadata": {},
   "outputs": [
    {
     "name": "stdout",
     "output_type": "stream",
     "text": [
      "31\n"
     ]
    }
   ],
   "source": [
    "#26\n",
    "sentence = 'You cannot end a sentence with because because because is a conjunction'\n",
    "position_of_because = sentence.find('because')\n",
    "\n",
    "print(position_of_because)\n"
   ]
  },
  {
   "cell_type": "code",
   "execution_count": 45,
   "metadata": {},
   "outputs": [
    {
     "name": "stdout",
     "output_type": "stream",
     "text": [
      "because because because\n"
     ]
    }
   ],
   "source": [
    "#27\n",
    "start_position = sentence.find('because')\n",
    "end_position = sentence.rfind('because') + len('because')\n",
    "because_phrase2 = sentence[start_position:end_position]\n",
    "print(because_phrase2)\n"
   ]
  },
  {
   "cell_type": "code",
   "execution_count": 40,
   "metadata": {},
   "outputs": [
    {
     "name": "stdout",
     "output_type": "stream",
     "text": [
      "True, Coding for all starts with substring \"Coding\"\n"
     ]
    }
   ],
   "source": [
    "#28\n",
    "starts_with_coding = company.startswith('Coding')\n",
    "\n",
    "print(f'{starts_with_coding}, {company} starts with substring \"Coding\"')\n"
   ]
  },
  {
   "cell_type": "code",
   "execution_count": 43,
   "metadata": {},
   "outputs": [
    {
     "name": "stdout",
     "output_type": "stream",
     "text": [
      "False, Coding for all does not end with substring \"Coding\"\n"
     ]
    }
   ],
   "source": [
    "#29\n",
    "ends_with_coding = company.endswith('Coding')\n",
    "\n",
    "print(f'{ends_with_coding}, {company} does not end with substring \"Coding\"')"
   ]
  },
  {
   "cell_type": "code",
   "execution_count": 44,
   "metadata": {},
   "outputs": [
    {
     "name": "stdout",
     "output_type": "stream",
     "text": [
      "Spaced Company name: \"   Coding For All      \"\n",
      "Trimmed Company name: \"Coding For All\"\n"
     ]
    }
   ],
   "source": [
    "#30\n",
    "spaced_company = '   Coding For All      '\n",
    "trimmed_company = spaced_company.strip()\n",
    "print(f'Spaced Company name: \"{spaced_company}\"')\n",
    "print(f'Trimmed Company name: \"{trimmed_company}\"')\n"
   ]
  },
  {
   "cell_type": "code",
   "execution_count": 46,
   "metadata": {},
   "outputs": [
    {
     "name": "stdout",
     "output_type": "stream",
     "text": [
      "False\n",
      "True\n"
     ]
    }
   ],
   "source": [
    "#31\n",
    "variable1 = '30DaysOfPython'\n",
    "variable2 = 'thirty_days_of_python'\n",
    "\n",
    "print(variable1.isidentifier()) \n",
    "print(variable2.isidentifier())  \n",
    "\n"
   ]
  },
  {
   "cell_type": "code",
   "execution_count": 47,
   "metadata": {},
   "outputs": [
    {
     "name": "stdout",
     "output_type": "stream",
     "text": [
      "Django # Flask # Bottle # Pyramid # Falcon\n"
     ]
    }
   ],
   "source": [
    "#32\n",
    "python_libraries = ['Django', 'Flask', 'Bottle', 'Pyramid', 'Falcon']\n",
    "joined_libraries = ' # '.join(python_libraries)\n",
    "print(joined_libraries)\n"
   ]
  },
  {
   "cell_type": "code",
   "execution_count": 48,
   "metadata": {},
   "outputs": [
    {
     "name": "stdout",
     "output_type": "stream",
     "text": [
      "I am enjoying this challenge.\n",
      "I just wonder what is next.\n"
     ]
    }
   ],
   "source": [
    "#33\n",
    "sentences = 'I am enjoying this challenge.\\nI just wonder what is next.'\n",
    "print(sentences)\n"
   ]
  },
  {
   "cell_type": "code",
   "execution_count": 53,
   "metadata": {},
   "outputs": [
    {
     "name": "stdout",
     "output_type": "stream",
     "text": [
      "Name\t        Age\tCountry\tCity\n",
      "Asabeneh\t250\tFinland\tHelsinki\n"
     ]
    }
   ],
   "source": [
    "#34\n",
    "table_header = 'Name\\t        Age\\tCountry\\tCity'\n",
    "data_row = 'Asabeneh\\t250\\tFinland\\tHelsinki'\n",
    "\n",
    "print(table_header)\n",
    "print(data_row)\n"
   ]
  },
  {
   "cell_type": "code",
   "execution_count": 54,
   "metadata": {},
   "outputs": [
    {
     "name": "stdout",
     "output_type": "stream",
     "text": [
      "The area of a circle with radius 10 is 314.0 meters square.\n"
     ]
    }
   ],
   "source": [
    "#35\n",
    "radius = 10\n",
    "area = 3.14 * radius ** 2\n",
    "print(\"The area of a circle with radius {} is {} meters square.\".format(radius, area))"
   ]
  },
  {
   "cell_type": "code",
   "execution_count": 55,
   "metadata": {},
   "outputs": [
    {
     "name": "stdout",
     "output_type": "stream",
     "text": [
      "8 + 6 = 14\n",
      "8 - 6 = 2\n",
      "8 * 6 = 48\n",
      "8 / 6 = 1.33\n",
      "8 % 6 = 2\n",
      "8 // 6 = 1\n",
      "8 ** 6 = 262144\n"
     ]
    }
   ],
   "source": [
    "#36\n",
    "a = 8\n",
    "b = 6\n",
    "print(\"{} + {} = {}\".format(a, b, a + b))\n",
    "print(\"{} - {} = {}\".format(a, b, a - b))\n",
    "print(\"{} * {} = {}\".format(a, b, a * b))\n",
    "print(\"{} / {} = {:.2f}\".format(a, b, a / b))\n",
    "print(\"{} % {} = {}\".format(a, b, a % b))\n",
    "print(\"{} // {} = {}\".format(a, b, a // b))\n",
    "print(\"{} ** {} = {}\".format(a, b, a ** b))\n"
   ]
  }
 ],
 "metadata": {
  "kernelspec": {
   "display_name": "datascience",
   "language": "python",
   "name": "python3"
  },
  "language_info": {
   "codemirror_mode": {
    "name": "ipython",
    "version": 3
   },
   "file_extension": ".py",
   "mimetype": "text/x-python",
   "name": "python",
   "nbconvert_exporter": "python",
   "pygments_lexer": "ipython3",
   "version": "3.8.18"
  }
 },
 "nbformat": 4,
 "nbformat_minor": 2
}
