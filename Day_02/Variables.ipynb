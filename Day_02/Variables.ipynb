{
 "cells": [
  {
   "cell_type": "markdown",
   "metadata": {},
   "source": [
    "# Excercises - Day 2"
   ]
  },
  {
   "cell_type": "markdown",
   "metadata": {},
   "source": [
    "### Excercises: Level 1"
   ]
  },
  {
   "cell_type": "code",
   "execution_count": 1,
   "metadata": {},
   "outputs": [],
   "source": [
    "  # Day 2: 30 Days of python programming\n",
    "first_name = \"Nana Firdausi\"\n",
    "last_name = \"Abdulrahim\"\n",
    "full_name = \"Nana Firdausi Abdulrahim\"\n",
    "country = \"Nigeria\"\n",
    "city = \"Doka\"\n",
    "age = 20\n",
    "year = 2023\n",
    "is_married = False\n",
    "is_true = True\n",
    "is_light_on = True\n",
    "school,favorite_color,gender=\"ABU zaria\",\"purple\",\"Female\"\n"
   ]
  },
  {
   "cell_type": "markdown",
   "metadata": {},
   "source": [
    "### Excercises: Level 2\n"
   ]
  },
  {
   "cell_type": "code",
   "execution_count": 5,
   "metadata": {},
   "outputs": [
    {
     "name": "stdout",
     "output_type": "stream",
     "text": [
      "<class 'str'>\n",
      "<class 'str'>\n",
      "<class 'str'>\n",
      "<class 'str'>\n",
      "<class 'str'>\n",
      "<class 'int'>\n",
      "<class 'int'>\n",
      "<class 'bool'>\n",
      "<class 'bool'>\n",
      "<class 'bool'>\n",
      "<class 'str'>\n",
      "<class 'str'>\n",
      "<class 'str'>\n"
     ]
    }
   ],
   "source": [
    "#1 Checking Data types\n",
    "\n",
    "print(type(first_name))\n",
    "print(type(last_name))\n",
    "print(type(full_name))\n",
    "print(type(country))\n",
    "print(type(city))\n",
    "print(type(age))\n",
    "print(type(year))\n",
    "print(type(is_married))\n",
    "print(type(is_true))\n",
    "print(type(is_light_on))\n",
    "print(type(school))\n",
    "print(type(favorite_color))\n",
    "print(type(gender))"
   ]
  },
  {
   "cell_type": "code",
   "execution_count": 6,
   "metadata": {},
   "outputs": [
    {
     "name": "stdout",
     "output_type": "stream",
     "text": [
      "13\n"
     ]
    }
   ],
   "source": [
    "#2 lengths\n",
    "\n",
    "print(len(first_name))"
   ]
  },
  {
   "cell_type": "code",
   "execution_count": 7,
   "metadata": {},
   "outputs": [
    {
     "name": "stdout",
     "output_type": "stream",
     "text": [
      "The lengths of first name and last name are not equal.\n"
     ]
    }
   ],
   "source": [
    "#3 Compare the lengths\n",
    "\n",
    "if len(first_name) == len(last_name):\n",
    "    print(\"The lengths of first name and last name are equal.\")\n",
    "else:\n",
    "    print(\"The lengths of first name and last name are not equal.\")\n"
   ]
  },
  {
   "cell_type": "code",
   "execution_count": 8,
   "metadata": {},
   "outputs": [],
   "source": [
    "#4\n",
    "\n",
    "num_one = 5\n",
    "num_two = 4\n",
    "total = num_one + num_two\n",
    "diff = num_two - num_one\n",
    "product = num_two * num_one\n",
    "division = num_one / num_two\n",
    "remainder = num_two % num_one\n",
    "exp = num_one ** num_two\n",
    "floor_division = num_one // num_two"
   ]
  },
  {
   "cell_type": "code",
   "execution_count": 14,
   "metadata": {},
   "outputs": [
    {
     "name": "stdout",
     "output_type": "stream",
     "text": [
      "For a circle with a fixed radius of 30 meters:\n",
      "     Area of the circle: 2827 square meters\n",
      "     Circumference of the circle: 188 meters\n"
     ]
    },
    {
     "name": "stdout",
     "output_type": "stream",
     "text": [
      "Area of the circle with user input radius:  78 square meters\n"
     ]
    }
   ],
   "source": [
    "#5 circle\n",
    "\n",
    "import math\n",
    "\n",
    "# Given radius\n",
    "radius_fixed = 30\n",
    "\n",
    "#i Calculate area of the circle\n",
    "area_of_circle = math.pi * (radius_fixed ** 2)\n",
    "\n",
    "#ii Calculate circumference of the circle\n",
    "circum_of_circle = 2 * math.pi * radius_fixed\n",
    "\n",
    "# Print results for the fixed radius\n",
    "print(\"For a circle with a fixed radius of 30 meters:\")\n",
    "print(\"     Area of the circle:\",int(area_of_circle), \"square meters\")\n",
    "print(\"     Circumference of the circle:\",int(circum_of_circle), \"meters\")\n",
    "\n",
    "#iii Taking user input for the radius\n",
    "user_radius = float(input(\"Enter the radius of the circle: \"))\n",
    "\n",
    "# Calculate area of the circle with user input radius\n",
    "area_of_circle_user_input = math.pi * (user_radius ** 2)\n",
    "\n",
    "# Print result for user input radius\n",
    "print(\"Area of the circle with user input radius: \",int(area_of_circle_user_input), \"square meters\")\n"
   ]
  },
  {
   "cell_type": "code",
   "execution_count": 16,
   "metadata": {},
   "outputs": [],
   "source": [
    "#6 Using the input built in function\n",
    "\n",
    "first_name= input(\"What's your first name: \")\n",
    "last_name= input(\"What's your last name: \")\n",
    "country= input(\"What's your country of origin: \")\n",
    "age= input(\"How old are you: \")\n"
   ]
  },
  {
   "cell_type": "code",
   "execution_count": 18,
   "metadata": {},
   "outputs": [
    {
     "name": "stdout",
     "output_type": "stream",
     "text": [
      "Help on class map in module builtins:\n",
      "\n",
      "class map(object)\n",
      " |  map(func, *iterables) --> map object\n",
      " |  \n",
      " |  Make an iterator that computes the function using arguments from\n",
      " |  each of the iterables.  Stops when the shortest iterable is exhausted.\n",
      " |  \n",
      " |  Methods defined here:\n",
      " |  \n",
      " |  __getattribute__(self, name, /)\n",
      " |      Return getattr(self, name).\n",
      " |  \n",
      " |  __iter__(self, /)\n",
      " |      Implement iter(self).\n",
      " |  \n",
      " |  __next__(self, /)\n",
      " |      Implement next(self).\n",
      " |  \n",
      " |  __reduce__(...)\n",
      " |      Return state information for pickling.\n",
      " |  \n",
      " |  ----------------------------------------------------------------------\n",
      " |  Static methods defined here:\n",
      " |  \n",
      " |  __new__(*args, **kwargs) from builtins.type\n",
      " |      Create and return a new object.  See help(type) for accurate signature.\n",
      "\n"
     ]
    }
   ],
   "source": [
    "#7 Using the Help function\n",
    "\n",
    "help(map)"
   ]
  }
 ],
 "metadata": {
  "kernelspec": {
   "display_name": "datascience",
   "language": "python",
   "name": "python3"
  },
  "language_info": {
   "codemirror_mode": {
    "name": "ipython",
    "version": 3
   },
   "file_extension": ".py",
   "mimetype": "text/x-python",
   "name": "python",
   "nbconvert_exporter": "python",
   "pygments_lexer": "ipython3",
   "version": "3.8.18"
  }
 },
 "nbformat": 4,
 "nbformat_minor": 2
}
