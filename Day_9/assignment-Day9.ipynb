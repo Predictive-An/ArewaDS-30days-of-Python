{
 "cells": [
  {
   "cell_type": "markdown",
   "metadata": {},
   "source": [
    "# Exercises: Day 9"
   ]
  },
  {
   "cell_type": "markdown",
   "metadata": {},
   "source": [
    "### Exercises: Level 1"
   ]
  },
  {
   "cell_type": "code",
   "execution_count": 3,
   "metadata": {},
   "outputs": [
    {
     "name": "stdout",
     "output_type": "stream",
     "text": [
      "You need 3 more years to learn to drive\n"
     ]
    }
   ],
   "source": [
    "#1\n",
    "age=int(input('Enter your age: '))\n",
    "missing_years= 18 - age\n",
    "if age >=18:\n",
    "    print('You are old enough to drive.')\n",
    "elif age < 18:\n",
    "    print(f'You need {missing_years} more years to learn to drive')\n",
    "    "
   ]
  },
  {
   "cell_type": "code",
   "execution_count": 10,
   "metadata": {},
   "outputs": [
    {
     "name": "stdout",
     "output_type": "stream",
     "text": [
      "I am 8 years older than you.\n",
      "Meaning, we are not age mates!\n"
     ]
    }
   ],
   "source": [
    "#2 WHO IS OLDER\n",
    "my_age=20\n",
    "your_age=int(input('Enter your age: '))\n",
    "\n",
    "\n",
    "if your_age > my_age:\n",
    "    age_difference=your_age - my_age\n",
    "    if age_difference == 1:\n",
    "        print('You are 1 year older than me.')\n",
    "    else:\n",
    "        print(f'You are {age_difference} years older than me.')\n",
    "    print('Meaning, we are not age mates!')\n",
    "elif your_age < my_age:\n",
    "    age_difference=my_age-your_age\n",
    "    if age_difference == 1:\n",
    "        print('I am 1 year older than you.')\n",
    "    else:\n",
    "        print(f'I am {age_difference} years older than you.') \n",
    "    print('Meaning, we are not age mates!')\n",
    "else:\n",
    "    print('We are age mates!!!')\n",
    "\n"
   ]
  },
  {
   "cell_type": "code",
   "execution_count": 11,
   "metadata": {},
   "outputs": [
    {
     "name": "stdout",
     "output_type": "stream",
     "text": [
      "3 is smaller than 4\n"
     ]
    }
   ],
   "source": [
    "#3\n",
    "num_one=int(input('Enter number one: '))\n",
    "num_two=int(input('Enter number two: '))\n",
    "if num_one > num_two:\n",
    "    print(f'{num_one} is greater than {num_two}')\n",
    "elif num_one < num_two:\n",
    "    print(f'{num_one} is smaller than {num_two}')\n",
    "else:\n",
    "    print(f'{num_one} is equal to {num_two}')"
   ]
  },
  {
   "cell_type": "markdown",
   "metadata": {},
   "source": [
    "### Exercises: Level 2"
   ]
  },
  {
   "cell_type": "code",
   "execution_count": 16,
   "metadata": {},
   "outputs": [
    {
     "name": "stdout",
     "output_type": "stream",
     "text": [
      "The student's grade is: F\n"
     ]
    }
   ],
   "source": [
    "#1\n",
    "score=int(input('Enter student score: '))\n",
    "if  80<= score <= 100:\n",
    "    grade='A'\n",
    "elif 70<= score <= 79:\n",
    "    grade='B'\n",
    "elif 60<= score <= 69:\n",
    "    grade ='C'\n",
    "elif 50<= score <= 59:\n",
    "    grade= 'D'\n",
    "elif 0 <= score <= 49:\n",
    "    grade = 'F'\n",
    "else:\n",
    "    grade = 'Invalid input. Score must be between 0 and 100.'\n",
    "print(f\"The student's grade is: {grade}\")\n",
    "\n"
   ]
  },
  {
   "cell_type": "code",
   "execution_count": 17,
   "metadata": {},
   "outputs": [
    {
     "name": "stdout",
     "output_type": "stream",
     "text": [
      "The season for November is Autumn.\n"
     ]
    }
   ],
   "source": [
    "#2 SEASONS\n",
    "month = input(\"Enter the month: \")\n",
    "\n",
    "# Convert the input to lowercase for case-insensitive comparison\n",
    "month = month.lower()\n",
    "if month in ['september', 'october', 'november']:\n",
    "    season = 'Autumn'\n",
    "elif month in ['december', 'january', 'february']:\n",
    "    season = 'Winter'\n",
    "elif month in ['march', 'april', 'may']:\n",
    "    season = 'Spring'\n",
    "elif month in ['june', 'july', 'august']:\n",
    "    season = 'Summer'\n",
    "else:\n",
    "    season = 'Invalid input. Please enter a valid month.'\n",
    "\n",
    "print(f\"The season for {month.capitalize()} is {season}.\")\n"
   ]
  },
  {
   "cell_type": "code",
   "execution_count": 18,
   "metadata": {},
   "outputs": [
    {
     "name": "stdout",
     "output_type": "stream",
     "text": [
      "The modified list of fruits is: ['banana', 'orange', 'mango', 'lemon', 'apple']\n"
     ]
    }
   ],
   "source": [
    "#3\n",
    "fruits = ['banana', 'orange', 'mango', 'lemon']\n",
    "new_fruit = input(\"Enter a fruit: \")\n",
    "if new_fruit.lower() in [fruit.lower() for fruit in fruits]:\n",
    "    print(\"That fruit already exists in the list.\")\n",
    "else:\n",
    "    fruits.append(new_fruit.lower())\n",
    "    print(f\"The modified list of fruits is: {fruits}\")\n"
   ]
  },
  {
   "cell_type": "markdown",
   "metadata": {},
   "source": [
    "### Exercises: Level 3"
   ]
  },
  {
   "cell_type": "code",
   "execution_count": 21,
   "metadata": {},
   "outputs": [
    {
     "name": "stdout",
     "output_type": "stream",
     "text": [
      "{'first_name': 'Asabeneh', 'last_name': 'Yetayeh', 'age': 250, 'country': 'Finland', 'is_married': True, 'skills': ['JavaScript', 'React', 'Node', 'MongoDB', 'Python', 'HTML'], 'address': {'street': 'Galaxy street', 'zipcode': '02210'}}\n",
      "Middle skill: MongoDB\n",
      "The person has Python skill.\n",
      "Unknown title.\n",
      "Asabeneh Yetayeh lives in Finland. He is married .\n"
     ]
    }
   ],
   "source": [
    "#1\n",
    "person = {\n",
    "    'first_name': 'Asabeneh',\n",
    "    'last_name': 'Yetayeh',\n",
    "    'age': 250,\n",
    "    'country': 'Finland',\n",
    "    'is_married': True,  # Corrected key\n",
    "    'skills': ['JavaScript', 'React', 'Node', 'MongoDB', 'Python'],\n",
    "    'address': {\n",
    "        'street': 'Space street',\n",
    "        'zipcode': '02210'\n",
    "    }\n",
    "}\n",
    "\n",
    "# Adding a new skill to the skills list\n",
    "person['skills'].append('HTML')\n",
    "\n",
    "# Modifying the street in the address\n",
    "person['address']['street'] = 'Galaxy street'\n",
    "\n",
    "# Printing the modified person dictionary\n",
    "print(person)\n",
    "\n",
    "# Check if the person dictionary has skills key, if so print out the middle skill in the skills list.\n",
    "if 'skills' in person:\n",
    "    skills_list = person['skills']\n",
    "    if len(skills_list) > 0:\n",
    "        middle_index = len(skills_list) // 2\n",
    "        print(f\"Middle skill: {skills_list[middle_index]}\")\n",
    "    else:\n",
    "        print(\"Skills list is empty.\")\n",
    "else:\n",
    "    print(\"No skills information in the person dictionary.\")\n",
    "\n",
    "# Check if the person dictionary has skills key, if so check if the person has 'Python' skill and print out the result.\n",
    "if 'skills' in person:\n",
    "    if 'Python' in person['skills']:\n",
    "        print(\"The person has Python skill.\")\n",
    "    else:\n",
    "        print(\"The person does not have Python skill.\")\n",
    "else:\n",
    "    print(\"No skills information in the person dictionary.\")\n",
    "\n",
    "# Check the person's skills to determine their title\n",
    "if 'skills' in person:\n",
    "    skills_set = set(person['skills'])\n",
    "    if skills_set == {'JavaScript', 'React'}:\n",
    "        print(\"He is a front-end developer.\")\n",
    "    elif skills_set == {'Node', 'Python', 'MongoDB'}:\n",
    "        print(\"He is a backend developer.\")\n",
    "    elif skills_set == {'React', 'Node', 'MongoDB'}:\n",
    "        print(\"He is a fullstack developer.\")\n",
    "    else:\n",
    "        print(\"Unknown title.\")\n",
    "else:\n",
    "    print(\"No skills information in the person dictionary.\")\n",
    "\n",
    "# If the person is married and if he lives in Finland, print the information\n",
    "if person.get('is_married') and person.get('country') == 'Finland':\n",
    "    print(f\"{person['first_name']} {person['last_name']} lives in Finland. He is married .\")\n",
    "else:\n",
    "    print(\"The person is either not married or does not live in Finland.\")\n"
   ]
  },
  {
   "cell_type": "code",
   "execution_count": null,
   "metadata": {},
   "outputs": [],
   "source": []
  }
 ],
 "metadata": {
  "kernelspec": {
   "display_name": "datascience",
   "language": "python",
   "name": "python3"
  },
  "language_info": {
   "codemirror_mode": {
    "name": "ipython",
    "version": 3
   },
   "file_extension": ".py",
   "mimetype": "text/x-python",
   "name": "python",
   "nbconvert_exporter": "python",
   "pygments_lexer": "ipython3",
   "version": "3.8.18"
  }
 },
 "nbformat": 4,
 "nbformat_minor": 2
}
