{
 "cells": [
  {
   "cell_type": "markdown",
   "metadata": {},
   "source": [
    "# Exercises: Day 18"
   ]
  },
  {
   "cell_type": "markdown",
   "metadata": {},
   "source": [
    "## Regular Expressions"
   ]
  },
  {
   "cell_type": "markdown",
   "metadata": {},
   "source": [
    "### Exercise: Level 1"
   ]
  },
  {
   "cell_type": "code",
   "execution_count": 1,
   "metadata": {},
   "outputs": [
    {
     "name": "stdout",
     "output_type": "stream",
     "text": [
      "(6, 'love')\n",
      "(5, 'you')\n",
      "(3, 'can')\n",
      "(2, 'what')\n",
      "(2, 'teaching')\n",
      "(2, 'not')\n",
      "(2, 'if')\n",
      "(2, 'i')\n",
      "(2, 'else')\n",
      "(2, 'do')\n",
      "(1, 'which')\n",
      "(1, 'to')\n",
      "(1, 'the')\n",
      "(1, 'something')\n",
      "(1, 'python')\n",
      "(1, 'give')\n",
      "(1, 'develop')\n",
      "(1, 'capabilities')\n",
      "(1, 'application')\n",
      "(1, 'an')\n",
      "(1, 'all')\n"
     ]
    }
   ],
   "source": [
    "#!\n",
    "import re\n",
    "from collections import Counter\n",
    "\n",
    "paragraph = 'I love teaching. If you do not love teaching what else can you love. I love Python if you do not love something which can give you all the capabilities to develop an application what else can you love.'\n",
    "\n",
    "# Convert the paragraph to lowercase to ensure case-insensitivity\n",
    "paragraph_lower = paragraph.lower()\n",
    "\n",
    "# Use regular expression to find words\n",
    "words = re.findall(r'\\b\\w+\\b', paragraph_lower)\n",
    "\n",
    "# Use Counter to count the frequency of each word\n",
    "word_counts = Counter(words)\n",
    "\n",
    "# Get a list of tuples with frequency and word\n",
    "frequency_word_list = [(count, word) for word, count in word_counts.items()]\n",
    "\n",
    "# Sort the list in descending order by frequency\n",
    "sorted_frequency_word_list = sorted(frequency_word_list, reverse=True)\n",
    "\n",
    "# Print the result\n",
    "for frequency, word in sorted_frequency_word_list:\n",
    "    print(\"({}, '{}')\".format(frequency, word))\n"
   ]
  },
  {
   "cell_type": "code",
   "execution_count": 6,
   "metadata": {},
   "outputs": [
    {
     "name": "stdout",
     "output_type": "stream",
     "text": [
      "points = [-12, -4, -3, -1, 0, 4, 8]\n",
      "sorted_points = [-12, -4, -3, -1, 0, 4, 8]\n",
      "distance = 20\n"
     ]
    }
   ],
   "source": [
    "import re\n",
    "\n",
    "text = \"The position of some particles on the horizontal x-axis are -12, -4, -3 and -1 in the negative direction, 0 at origin, 4 and 8 in the positive direction.\"\n",
    "\n",
    "# Use regular expression to find numeric values\n",
    "matches = re.findall(r'-?\\d+', text)\n",
    "\n",
    "# Ensure there are at least two numeric values for comparison\n",
    "if len(matches) < 2:\n",
    "    print(\"Not enough particles to calculate distance.\")\n",
    "else:\n",
    "    # Convert matches to integers\n",
    "    numeric_values = list(map(int, matches))\n",
    "\n",
    "    # Sort the numeric values\n",
    "    sorted_points = sorted(numeric_values)\n",
    "\n",
    "    # Calculate the distance between the two furthest particles\n",
    "    distance = sorted_points[-1] - sorted_points[0]\n",
    "\n",
    "    print(\"points =\", sorted_points)\n",
    "    print(\"sorted_points =\", sorted_points)\n",
    "    print(\"distance =\", distance)\n"
   ]
  },
  {
   "cell_type": "markdown",
   "metadata": {},
   "source": [
    "### Exercise: Level 2"
   ]
  },
  {
   "cell_type": "code",
   "execution_count": 3,
   "metadata": {},
   "outputs": [
    {
     "name": "stdout",
     "output_type": "stream",
     "text": [
      "True\n",
      "False\n",
      "False\n",
      "True\n"
     ]
    }
   ],
   "source": [
    "#1\n",
    "import re\n",
    "\n",
    "def is_valid_variable(variable):\n",
    "    pattern = re.compile(r'^[a-zA-Z_][a-zA-Z0-9_]*$')\n",
    "    return bool(pattern.match(variable))\n",
    "\n",
    "print(is_valid_variable('first_name'))   # True\n",
    "print(is_valid_variable('first-name'))   # False\n",
    "print(is_valid_variable('1first_name'))  # False\n",
    "print(is_valid_variable('firstname'))    # True\n"
   ]
  },
  {
   "cell_type": "markdown",
   "metadata": {},
   "source": [
    "### Exercise: Level 3"
   ]
  },
  {
   "cell_type": "code",
   "execution_count": 4,
   "metadata": {},
   "outputs": [
    {
     "name": "stdout",
     "output_type": "stream",
     "text": [
      "I am a teacher and I love teaching There is nothing as more rewarding as educating and empowering people I found teaching more interesting than any other jobs Does this motivate you to be a teacher\n",
      "Most frequent words: [('I', 3), ('a', 2), ('teacher', 2)]\n"
     ]
    }
   ],
   "source": [
    "import re\n",
    "from collections import Counter\n",
    "\n",
    "def clean_text(text):\n",
    "    # Remove special characters and extra spaces\n",
    "    cleaned_text = re.sub(r'[^a-zA-Z\\s]', '', text)\n",
    "    cleaned_text = re.sub(r'\\s+', ' ', cleaned_text)\n",
    "    return cleaned_text.strip()\n",
    "\n",
    "def most_frequent_words(text, n=3):\n",
    "    words = text.split()\n",
    "    word_counts = Counter(words)\n",
    "    return word_counts.most_common(n)\n",
    "\n",
    "sentence = '''%I $am@% a %tea@cher%, &and& I lo%#ve %tea@ching%;. There $is nothing; &as& mo@re rewarding as educa@ting &and& @emp%o@wering peo@ple. ;I found tea@ching m%o@re interesting tha@n any other %jo@bs. %Do@es thi%s mo@tivate yo@u to be a tea@cher!?'''\n",
    "\n",
    "cleaned_text = clean_text(sentence)\n",
    "print(cleaned_text)\n",
    "\n",
    "frequent_words = most_frequent_words(cleaned_text)\n",
    "print(\"Most frequent words:\", frequent_words)\n"
   ]
  }
 ],
 "metadata": {
  "kernelspec": {
   "display_name": "datascience",
   "language": "python",
   "name": "python3"
  },
  "language_info": {
   "codemirror_mode": {
    "name": "ipython",
    "version": 3
   },
   "file_extension": ".py",
   "mimetype": "text/x-python",
   "name": "python",
   "nbconvert_exporter": "python",
   "pygments_lexer": "ipython3",
   "version": "3.8.18"
  }
 },
 "nbformat": 4,
 "nbformat_minor": 2
}
