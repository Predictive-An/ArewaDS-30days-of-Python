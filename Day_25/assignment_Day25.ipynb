{
 "cells": [
  {
   "cell_type": "markdown",
   "metadata": {},
   "source": [
    "# Exercises: Day 25"
   ]
  },
  {
   "cell_type": "markdown",
   "metadata": {},
   "source": [
    "## Pandas"
   ]
  },
  {
   "cell_type": "code",
   "execution_count": 1,
   "metadata": {},
   "outputs": [
    {
     "name": "stdout",
     "output_type": "stream",
     "text": [
      "First five rows:\n",
      "         id                                              title  \\\n",
      "0  12224879                          Interactive Dynamic Video   \n",
      "1  11964716  Florida DJs May Face Felony for April Fools' W...   \n",
      "2  11919867       Technology ventures: From Idea to Enterprise   \n",
      "3  10301696  Note by Note: The Making of Steinway L1037 (2007)   \n",
      "4  10482257  Title II kills investment? Comcast and other I...   \n",
      "\n",
      "                                                 url  num_points  \\\n",
      "0            http://www.interactivedynamicvideo.com/         386   \n",
      "1  http://www.thewire.com/entertainment/2013/04/f...           2   \n",
      "2  https://www.amazon.com/Technology-Ventures-Ent...           3   \n",
      "3  http://www.nytimes.com/2007/11/07/movies/07ste...           8   \n",
      "4  http://arstechnica.com/business/2015/10/comcas...          53   \n",
      "\n",
      "   num_comments      author       created_at  \n",
      "0            52    ne0phyte   8/4/2016 11:52  \n",
      "1             1    vezycash  6/23/2016 22:20  \n",
      "2             1     hswarna   6/17/2016 0:01  \n",
      "3             2  walterbell   9/30/2015 4:12  \n",
      "4            22      Deinos  10/31/2015 9:48  \n",
      "\n",
      "Last five rows:\n",
      "             id                                              title  \\\n",
      "20094  12379592  How Purism Avoids Intels Active Management Tec...   \n",
      "20095  10339284          YC Application Translated and Broken Down   \n",
      "20096  10824382  Microkernels are slow and Elvis didn't do no d...   \n",
      "20097  10739875                      How Product Hunt really works   \n",
      "20098  11680777  RoboBrowser: Your friendly neighborhood web sc...   \n",
      "\n",
      "                                                     url  num_points  \\\n",
      "20094  https://puri.sm/philosophy/how-purism-avoids-i...          10   \n",
      "20095  https://medium.com/@zreitano/the-yc-applicatio...           4   \n",
      "20096  http://blog.darknedgy.net/technology/2016/01/0...         169   \n",
      "20097  https://medium.com/@benjiwheeler/how-product-h...         695   \n",
      "20098              https://github.com/jmcarp/robobrowser         182   \n",
      "\n",
      "       num_comments         author        created_at  \n",
      "20094             6  AdmiralAsshat    8/29/2016 2:22  \n",
      "20095             1       zreitano   10/6/2015 14:57  \n",
      "20096           132    vezzy-fnord     1/2/2016 0:49  \n",
      "20097           222          brw12  12/15/2015 19:32  \n",
      "20098            58      pmoriarty    5/12/2016 1:43  \n",
      "\n",
      "Title column as pandas series:\n",
      "0                                Interactive Dynamic Video\n",
      "1        Florida DJs May Face Felony for April Fools' W...\n",
      "2             Technology ventures: From Idea to Enterprise\n",
      "3        Note by Note: The Making of Steinway L1037 (2007)\n",
      "4        Title II kills investment? Comcast and other I...\n",
      "                               ...                        \n",
      "20094    How Purism Avoids Intels Active Management Tec...\n",
      "20095            YC Application Translated and Broken Down\n",
      "20096    Microkernels are slow and Elvis didn't do no d...\n",
      "20097                        How Product Hunt really works\n",
      "20098    RoboBrowser: Your friendly neighborhood web sc...\n",
      "Name: title, Length: 20099, dtype: object\n",
      "\n",
      "Number of rows: 20099\n",
      "Number of columns: 7\n",
      "\n",
      "Titles containing 'python':\n",
      "                                                   title\n",
      "102                  From Python to Lua: Why We Switched\n",
      "103            Ubuntu 16.04 LTS to Ship Without Python 2\n",
      "144    Create a GUI Application Using Qt and Python i...\n",
      "196    How I Solved GCHQ's Xmas Card with Python and ...\n",
      "436    Unikernel Power Comes to Java, Node.js, Go, an...\n",
      "...                                                  ...\n",
      "19597  David Beazley  Python Concurrency from the Gro...\n",
      "19852    Ask HN: How to automate Python apps deployment?\n",
      "19862                          Moving Away from Python 2\n",
      "19980                      Python vs. Julia Observations\n",
      "19998  Show HN: Decorating: Animated pulsed for your ...\n",
      "\n",
      "[160 rows x 1 columns]\n",
      "\n",
      "Titles containing 'JavaScript':\n",
      "                                                   title\n",
      "267     Show HN: Hire JavaScript - Top JavaScript Talent\n",
      "580    Python integration for the Duktape Javascript ...\n",
      "811    Ask HN: Are there any projects or compilers wh...\n",
      "1046   If you write JavaScript tools or libraries, bu...\n",
      "1093   Rollup.js: A next-generation JavaScript module...\n",
      "...                                                  ...\n",
      "19349    Fotorama, a responsive JavaScript photo gallery\n",
      "19548                 Another Kind of JavaScript Fatigue\n",
      "19610  Lonely programmer detective uncovers the Mozil...\n",
      "19885  Ask HN: Best Practices for CSS in a Modern Jav...\n",
      "20069  Show HN: Parse recipe ingredients using JavaSc...\n",
      "\n",
      "[170 rows x 1 columns]\n",
      "\n",
      "Data Exploration:\n",
      "                 id    num_points  num_comments\n",
      "count  2.009900e+04  20099.000000  20099.000000\n",
      "mean   1.131755e+07     50.296632     24.803025\n",
      "std    6.964531e+05    107.110322     56.108639\n",
      "min    1.017691e+07      1.000000      1.000000\n",
      "25%    1.070172e+07      3.000000      1.000000\n",
      "50%    1.128452e+07      9.000000      3.000000\n",
      "75%    1.192613e+07     54.000000     21.000000\n",
      "max    1.257898e+07   2553.000000   1733.000000\n",
      "<class 'pandas.core.frame.DataFrame'>\n",
      "RangeIndex: 20099 entries, 0 to 20098\n",
      "Data columns (total 7 columns):\n",
      " #   Column        Non-Null Count  Dtype \n",
      "---  ------        --------------  ----- \n",
      " 0   id            20099 non-null  int64 \n",
      " 1   title         20099 non-null  object\n",
      " 2   url           17659 non-null  object\n",
      " 3   num_points    20099 non-null  int64 \n",
      " 4   num_comments  20099 non-null  int64 \n",
      " 5   author        20099 non-null  object\n",
      " 6   created_at    20099 non-null  object\n",
      "dtypes: int64(3), object(4)\n",
      "memory usage: 1.1+ MB\n",
      "None\n",
      "title\n",
      "Were in a brave, new post open source world                                        3\n",
      "400Gbps: Winter of Whopping Weekend DDoS Attacks                                   3\n",
      "He Was a Hacker for the NSA and He Was Willing to Talk. I Was Willing to Listen    3\n",
      "Solving All the Wrong Problems                                                     3\n",
      "Calculus Is So Last Century                                                        3\n",
      "                                                                                  ..\n",
      "Bright spots on the dwarf planet Ceres continue to puzzle researchers              1\n",
      "DOJ indicts man who blasted false stock info on Twitter then traded on it          1\n",
      "The Real Problem with Lunch                                                        1\n",
      "Stanza Programming Language Now Supports Windows                                   1\n",
      "RoboBrowser: Your friendly neighborhood web scraper                                1\n",
      "Name: count, Length: 19957, dtype: int64\n"
     ]
    }
   ],
   "source": [
    "import pandas as pd\n",
    "\n",
    "# 1. Read the hacker_news.csv file from the data directory\n",
    "file_path = './hacker_news.csv'\n",
    "df = pd.read_csv(file_path)"
   ]
  },
  {
   "cell_type": "code",
   "execution_count": 2,
   "metadata": {},
   "outputs": [
    {
     "name": "stdout",
     "output_type": "stream",
     "text": [
      "First five rows:\n",
      "         id                                              title  \\\n",
      "0  12224879                          Interactive Dynamic Video   \n",
      "1  11964716  Florida DJs May Face Felony for April Fools' W...   \n",
      "2  11919867       Technology ventures: From Idea to Enterprise   \n",
      "3  10301696  Note by Note: The Making of Steinway L1037 (2007)   \n",
      "4  10482257  Title II kills investment? Comcast and other I...   \n",
      "\n",
      "                                                 url  num_points  \\\n",
      "0            http://www.interactivedynamicvideo.com/         386   \n",
      "1  http://www.thewire.com/entertainment/2013/04/f...           2   \n",
      "2  https://www.amazon.com/Technology-Ventures-Ent...           3   \n",
      "3  http://www.nytimes.com/2007/11/07/movies/07ste...           8   \n",
      "4  http://arstechnica.com/business/2015/10/comcas...          53   \n",
      "\n",
      "   num_comments      author       created_at  \n",
      "0            52    ne0phyte   8/4/2016 11:52  \n",
      "1             1    vezycash  6/23/2016 22:20  \n",
      "2             1     hswarna   6/17/2016 0:01  \n",
      "3             2  walterbell   9/30/2015 4:12  \n",
      "4            22      Deinos  10/31/2015 9:48  \n"
     ]
    }
   ],
   "source": [
    "# 2. Get the first five rows\n",
    "print(\"First five rows:\")\n",
    "print(df.head())"
   ]
  },
  {
   "cell_type": "code",
   "execution_count": 3,
   "metadata": {},
   "outputs": [
    {
     "name": "stdout",
     "output_type": "stream",
     "text": [
      "\n",
      "Last five rows:\n",
      "             id                                              title  \\\n",
      "20094  12379592  How Purism Avoids Intels Active Management Tec...   \n",
      "20095  10339284          YC Application Translated and Broken Down   \n",
      "20096  10824382  Microkernels are slow and Elvis didn't do no d...   \n",
      "20097  10739875                      How Product Hunt really works   \n",
      "20098  11680777  RoboBrowser: Your friendly neighborhood web sc...   \n",
      "\n",
      "                                                     url  num_points  \\\n",
      "20094  https://puri.sm/philosophy/how-purism-avoids-i...          10   \n",
      "20095  https://medium.com/@zreitano/the-yc-applicatio...           4   \n",
      "20096  http://blog.darknedgy.net/technology/2016/01/0...         169   \n",
      "20097  https://medium.com/@benjiwheeler/how-product-h...         695   \n",
      "20098              https://github.com/jmcarp/robobrowser         182   \n",
      "\n",
      "       num_comments         author        created_at  \n",
      "20094             6  AdmiralAsshat    8/29/2016 2:22  \n",
      "20095             1       zreitano   10/6/2015 14:57  \n",
      "20096           132    vezzy-fnord     1/2/2016 0:49  \n",
      "20097           222          brw12  12/15/2015 19:32  \n",
      "20098            58      pmoriarty    5/12/2016 1:43  \n"
     ]
    }
   ],
   "source": [
    "# 3. Get the last five rows\n",
    "print(\"\\nLast five rows:\")\n",
    "print(df.tail())"
   ]
  },
  {
   "cell_type": "code",
   "execution_count": 4,
   "metadata": {},
   "outputs": [
    {
     "name": "stdout",
     "output_type": "stream",
     "text": [
      "\n",
      "Title column as pandas series:\n",
      "0                                Interactive Dynamic Video\n",
      "1        Florida DJs May Face Felony for April Fools' W...\n",
      "2             Technology ventures: From Idea to Enterprise\n",
      "3        Note by Note: The Making of Steinway L1037 (2007)\n",
      "4        Title II kills investment? Comcast and other I...\n",
      "                               ...                        \n",
      "20094    How Purism Avoids Intels Active Management Tec...\n",
      "20095            YC Application Translated and Broken Down\n",
      "20096    Microkernels are slow and Elvis didn't do no d...\n",
      "20097                        How Product Hunt really works\n",
      "20098    RoboBrowser: Your friendly neighborhood web sc...\n",
      "Name: title, Length: 20099, dtype: object\n"
     ]
    }
   ],
   "source": [
    "# 4. Get the title column as a pandas series\n",
    "title_series = df['title']\n",
    "print(\"\\nTitle column as pandas series:\")\n",
    "print(title_series)\n"
   ]
  },
  {
   "cell_type": "code",
   "execution_count": 5,
   "metadata": {},
   "outputs": [
    {
     "name": "stdout",
     "output_type": "stream",
     "text": [
      "\n",
      "Number of rows: 20099\n",
      "Number of columns: 7\n"
     ]
    }
   ],
   "source": [
    "# 5. Count the number of rows and columns\n",
    "num_rows, num_columns = df.shape\n",
    "print(f\"\\nNumber of rows: {num_rows}\")\n",
    "print(f\"Number of columns: {num_columns}\")"
   ]
  },
  {
   "cell_type": "code",
   "execution_count": 7,
   "metadata": {},
   "outputs": [
    {
     "name": "stdout",
     "output_type": "stream",
     "text": [
      "\n",
      "Titles containing 'python':\n",
      "                                                   title\n",
      "102                  From Python to Lua: Why We Switched\n",
      "103            Ubuntu 16.04 LTS to Ship Without Python 2\n",
      "144    Create a GUI Application Using Qt and Python i...\n",
      "196    How I Solved GCHQ's Xmas Card with Python and ...\n",
      "436    Unikernel Power Comes to Java, Node.js, Go, an...\n",
      "...                                                  ...\n",
      "19597  David Beazley  Python Concurrency from the Gro...\n",
      "19852    Ask HN: How to automate Python apps deployment?\n",
      "19862                          Moving Away from Python 2\n",
      "19980                      Python vs. Julia Observations\n",
      "19998  Show HN: Decorating: Animated pulsed for your ...\n",
      "\n",
      "[160 rows x 1 columns]\n"
     ]
    }
   ],
   "source": [
    "# Filter the titles which contain \"python\" and \"JavaScript\"\n",
    "python_titles = df[df['title'].str.contains('python', case=False)]\n",
    "javascript_titles = df[df['title'].str.contains('JavaScript', case=False)]\n",
    "print(\"\\nTitles containing 'python':\")\n",
    "print(python_titles[['title']])\n"
   ]
  },
  {
   "cell_type": "code",
   "execution_count": 8,
   "metadata": {},
   "outputs": [
    {
     "name": "stdout",
     "output_type": "stream",
     "text": [
      "\n",
      "Titles containing 'JavaScript':\n",
      "                                                   title\n",
      "267     Show HN: Hire JavaScript - Top JavaScript Talent\n",
      "580    Python integration for the Duktape Javascript ...\n",
      "811    Ask HN: Are there any projects or compilers wh...\n",
      "1046   If you write JavaScript tools or libraries, bu...\n",
      "1093   Rollup.js: A next-generation JavaScript module...\n",
      "...                                                  ...\n",
      "19349    Fotorama, a responsive JavaScript photo gallery\n",
      "19548                 Another Kind of JavaScript Fatigue\n",
      "19610  Lonely programmer detective uncovers the Mozil...\n",
      "19885  Ask HN: Best Practices for CSS in a Modern Jav...\n",
      "20069  Show HN: Parse recipe ingredients using JavaSc...\n",
      "\n",
      "[170 rows x 1 columns]\n"
     ]
    }
   ],
   "source": [
    "# Filter the titles which contain \"JavaScript\"\n",
    "javascript_titles = df[df['title'].str.contains('JavaScript', case=False)]\n",
    "print(\"\\nTitles containing 'JavaScript':\")\n",
    "print(javascript_titles[['title']])"
   ]
  },
  {
   "cell_type": "code",
   "execution_count": 11,
   "metadata": {},
   "outputs": [
    {
     "name": "stdout",
     "output_type": "stream",
     "text": [
      "\n",
      "Data Exploration:\n",
      "                 id    num_points  num_comments\n",
      "count  2.009900e+04  20099.000000  20099.000000\n",
      "mean   1.131755e+07     50.296632     24.803025\n",
      "std    6.964531e+05    107.110322     56.108639\n",
      "min    1.017691e+07      1.000000      1.000000\n",
      "25%    1.070172e+07      3.000000      1.000000\n",
      "50%    1.128452e+07      9.000000      3.000000\n",
      "75%    1.192613e+07     54.000000     21.000000\n",
      "max    1.257898e+07   2553.000000   1733.000000\n"
     ]
    }
   ],
   "source": [
    "# Exploring the data \n",
    "print(\"\\nData Exploration:\")\n",
    "print(df.describe())"
   ]
  },
  {
   "cell_type": "code",
   "execution_count": 12,
   "metadata": {},
   "outputs": [
    {
     "name": "stdout",
     "output_type": "stream",
     "text": [
      "\n",
      "Data Exploration:\n",
      "<class 'pandas.core.frame.DataFrame'>\n",
      "RangeIndex: 20099 entries, 0 to 20098\n",
      "Data columns (total 7 columns):\n",
      " #   Column        Non-Null Count  Dtype \n",
      "---  ------        --------------  ----- \n",
      " 0   id            20099 non-null  int64 \n",
      " 1   title         20099 non-null  object\n",
      " 2   url           17659 non-null  object\n",
      " 3   num_points    20099 non-null  int64 \n",
      " 4   num_comments  20099 non-null  int64 \n",
      " 5   author        20099 non-null  object\n",
      " 6   created_at    20099 non-null  object\n",
      "dtypes: int64(3), object(4)\n",
      "memory usage: 1.1+ MB\n",
      "None\n"
     ]
    }
   ],
   "source": [
    "print(\"\\nData Exploration:\")\n",
    "print(df.info())"
   ]
  },
  {
   "cell_type": "code",
   "execution_count": 13,
   "metadata": {},
   "outputs": [
    {
     "name": "stdout",
     "output_type": "stream",
     "text": [
      "\n",
      "Data Exploration:\n",
      "title\n",
      "Were in a brave, new post open source world                                        3\n",
      "400Gbps: Winter of Whopping Weekend DDoS Attacks                                   3\n",
      "He Was a Hacker for the NSA and He Was Willing to Talk. I Was Willing to Listen    3\n",
      "Solving All the Wrong Problems                                                     3\n",
      "Calculus Is So Last Century                                                        3\n",
      "                                                                                  ..\n",
      "Bright spots on the dwarf planet Ceres continue to puzzle researchers              1\n",
      "DOJ indicts man who blasted false stock info on Twitter then traded on it          1\n",
      "The Real Problem with Lunch                                                        1\n",
      "Stanza Programming Language Now Supports Windows                                   1\n",
      "RoboBrowser: Your friendly neighborhood web scraper                                1\n",
      "Name: count, Length: 19957, dtype: int64\n"
     ]
    }
   ],
   "source": [
    "print(\"\\nData Exploration:\")\n",
    "print(df['title'].value_counts())"
   ]
  },
  {
   "cell_type": "code",
   "execution_count": null,
   "metadata": {},
   "outputs": [],
   "source": []
  }
 ],
 "metadata": {
  "kernelspec": {
   "display_name": "datascience",
   "language": "python",
   "name": "python3"
  },
  "language_info": {
   "codemirror_mode": {
    "name": "ipython",
    "version": 3
   },
   "file_extension": ".py",
   "mimetype": "text/x-python",
   "name": "python",
   "nbconvert_exporter": "python",
   "pygments_lexer": "ipython3",
   "version": "3.8.18"
  }
 },
 "nbformat": 4,
 "nbformat_minor": 2
}
