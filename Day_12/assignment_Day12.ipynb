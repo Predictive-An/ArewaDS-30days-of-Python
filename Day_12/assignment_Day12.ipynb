{
 "cells": [
  {
   "cell_type": "markdown",
   "metadata": {},
   "source": [
    "# Exercise: Day 12"
   ]
  },
  {
   "cell_type": "markdown",
   "metadata": {},
   "source": [
    "## Modules"
   ]
  },
  {
   "cell_type": "markdown",
   "metadata": {},
   "source": [
    "### Exercise: Level 1"
   ]
  },
  {
   "cell_type": "code",
   "execution_count": 2,
   "metadata": {},
   "outputs": [],
   "source": [
    "#1\n",
    "import random\n",
    "import string\n",
    "\n",
    "def random_user_id():\n",
    "    # Generate a random string of six characters\n",
    "    user_id = ''.join(random.choices(string.ascii_lowercase + string.digits, k=6))\n",
    "    return user_id\n",
    "\n"
   ]
  },
  {
   "cell_type": "code",
   "execution_count": 3,
   "metadata": {},
   "outputs": [
    {
     "name": "stdout",
     "output_type": "stream",
     "text": [
      "fxgcvo\n"
     ]
    }
   ],
   "source": [
    "print(random_user_id())"
   ]
  },
  {
   "cell_type": "code",
   "execution_count": 4,
   "metadata": {},
   "outputs": [],
   "source": [
    "#2\n",
    "import random\n",
    "import string\n",
    "\n",
    "def user_id_gen_by_user():\n",
    "    try:\n",
    "        # Get user input \n",
    "        char_count = int(input(\"Enter the number of characters for each user ID: \"))\n",
    "        id_count = int(input(\"Enter the number of user IDs to generate: \"))\n",
    "        \n",
    "        # Validate user input\n",
    "        if char_count <= 0 or id_count <= 0:\n",
    "            raise ValueError(\"Both inputs must be positive integers.\")\n",
    "\n",
    "        # Generate user IDs\n",
    "        user_ids = []\n",
    "        for _ in range(id_count):\n",
    "            user_id = ''.join(random.choices(string.ascii_letters + string.digits, k=char_count))\n",
    "            user_ids.append(user_id)\n",
    "\n",
    "        return user_ids\n",
    "\n",
    "    except ValueError as e:\n",
    "        return f\"Error: {e}\"\n",
    "\n"
   ]
  },
  {
   "cell_type": "code",
   "execution_count": 5,
   "metadata": {},
   "outputs": [
    {
     "name": "stdout",
     "output_type": "stream",
     "text": [
      "rFp8n\n",
      "mlCfs\n",
      "S9kJo\n",
      "8f5OF\n",
      "ulZKj\n"
     ]
    }
   ],
   "source": [
    "# Example \n",
    "result = user_id_gen_by_user()\n",
    "if isinstance(result, list):\n",
    "    for user_id in result:\n",
    "        print(user_id)\n",
    "else:\n",
    "    print(result)"
   ]
  },
  {
   "cell_type": "code",
   "execution_count": 6,
   "metadata": {},
   "outputs": [],
   "source": [
    "#3\n",
    "import random\n",
    "\n",
    "def rgb_color_gen():\n",
    "    # Generate random values for red, green, and blue components\n",
    "    red = random.randint(0, 255)\n",
    "    green = random.randint(0, 255)\n",
    "    blue = random.randint(0, 255)\n",
    "\n",
    "    # Format the output string\n",
    "    rgb_color = f\"rgb({red},{green},{blue})\"\n",
    "    return rgb_color\n",
    "\n"
   ]
  },
  {
   "cell_type": "code",
   "execution_count": 7,
   "metadata": {},
   "outputs": [
    {
     "name": "stdout",
     "output_type": "stream",
     "text": [
      "rgb(35,102,211)\n"
     ]
    }
   ],
   "source": [
    "# Example\n",
    "print(rgb_color_gen())"
   ]
  },
  {
   "cell_type": "markdown",
   "metadata": {},
   "source": [
    "### Exercise: Level 2"
   ]
  },
  {
   "cell_type": "code",
   "execution_count": 10,
   "metadata": {},
   "outputs": [],
   "source": [
    "#1\n",
    "import random\n",
    "\n",
    "def list_of_hexa_colors(num_colors):\n",
    "    hexa_colors = []\n",
    "    for _ in range(num_colors):\n",
    "        # Generate a random hex color (e.g., #a3e12f)\n",
    "        hex_color = \"#{:06x}\".format(random.randint(0, 0xFFFFFF))\n",
    "        hexa_colors.append(hex_color)\n",
    "    return hexa_colors\n",
    "\n",
    "\n"
   ]
  },
  {
   "cell_type": "code",
   "execution_count": 8,
   "metadata": {},
   "outputs": [],
   "source": [
    "#2\n",
    "def list_of_rgb_colors(num_colors):\n",
    "    rgb_colors = []\n",
    "    for _ in range(num_colors):\n",
    "        # Generate random values for red, green, and blue components\n",
    "        red = random.randint(0, 255)\n",
    "        green = random.randint(0, 255)\n",
    "        blue = random.randint(0, 255)\n",
    "\n",
    "        # Format the output string\n",
    "        rgb_color = f\"rgb({red},{green},{blue})\"\n",
    "        rgb_colors.append(rgb_color)\n",
    "    return rgb_colors\n"
   ]
  },
  {
   "cell_type": "code",
   "execution_count": 9,
   "metadata": {},
   "outputs": [],
   "source": [
    "#3\n",
    "def generate_colors(color_type, num_colors):\n",
    "    if color_type == 'hexa':\n",
    "        return list_of_hexa_colors(num_colors)\n",
    "    elif color_type == 'rgb':\n",
    "        return list_of_rgb_colors(num_colors)\n",
    "    else:\n",
    "        return f\"Invalid color type: {color_type}\""
   ]
  },
  {
   "cell_type": "code",
   "execution_count": 11,
   "metadata": {},
   "outputs": [
    {
     "name": "stdout",
     "output_type": "stream",
     "text": [
      "['#996178', '#76582c', '#25adcf']\n",
      "['#9701df']\n",
      "['rgb(44,200,71)', 'rgb(237,130,220)', 'rgb(183,89,89)']\n",
      "['rgb(252,21,184)']\n"
     ]
    }
   ],
   "source": [
    "print(generate_colors('hexa', 3))  \n",
    "print(generate_colors('hexa', 1))  \n",
    "print(generate_colors('rgb', 3))   \n",
    "print(generate_colors('rgb', 1))   "
   ]
  },
  {
   "cell_type": "markdown",
   "metadata": {},
   "source": [
    "### Exercise: Level 3"
   ]
  },
  {
   "cell_type": "code",
   "execution_count": 12,
   "metadata": {},
   "outputs": [],
   "source": [
    "#1\n",
    "import random\n",
    "\n",
    "def shuffle_list(input_list):\n",
    "    shuffled_list = input_list.copy()\n",
    "    random.shuffle(shuffled_list)\n",
    "    return shuffled_list\n",
    "\n",
    "def random_unique_numbers():\n",
    "    unique_numbers = random.sample(range(10), 7)\n",
    "    return unique_numbers\n",
    "\n",
    "\n"
   ]
  },
  {
   "cell_type": "code",
   "execution_count": 13,
   "metadata": {},
   "outputs": [
    {
     "name": "stdout",
     "output_type": "stream",
     "text": [
      "Shuffled List: [8, 9, 2, 5, 3, 6, 4, 1, 7]\n",
      "Random Unique Numbers: [6, 3, 2, 8, 9, 5, 1]\n"
     ]
    }
   ],
   "source": [
    "# Example usage\n",
    "original_list = [1, 2, 3, 4, 5, 6, 7, 8, 9]\n",
    "shuffled_result = shuffle_list(original_list)\n",
    "print(\"Shuffled List:\", shuffled_result)\n",
    "\n",
    "unique_numbers_result = random_unique_numbers()\n",
    "print(\"Random Unique Numbers:\", unique_numbers_result)\n"
   ]
  },
  {
   "cell_type": "code",
   "execution_count": null,
   "metadata": {},
   "outputs": [],
   "source": []
  }
 ],
 "metadata": {
  "kernelspec": {
   "display_name": "datascience",
   "language": "python",
   "name": "python3"
  },
  "language_info": {
   "codemirror_mode": {
    "name": "ipython",
    "version": 3
   },
   "file_extension": ".py",
   "mimetype": "text/x-python",
   "name": "python",
   "nbconvert_exporter": "python",
   "pygments_lexer": "ipython3",
   "version": "3.8.18"
  }
 },
 "nbformat": 4,
 "nbformat_minor": 2
}
