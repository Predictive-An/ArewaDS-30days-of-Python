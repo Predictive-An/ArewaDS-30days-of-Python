{
 "cells": [
  {
   "cell_type": "markdown",
   "metadata": {},
   "source": [
    "## Operators"
   ]
  },
  {
   "cell_type": "code",
   "execution_count": 3,
   "metadata": {},
   "outputs": [
    {
     "name": "stdout",
     "output_type": "stream",
     "text": [
      "The area of the triangle is 12.5\n"
     ]
    }
   ],
   "source": [
    "#1 Declaring int data type\n",
    "age=20\n",
    "#2 Declaring float data type\n",
    "my_height=9.0\n",
    "#3 Declaring complex data type\n",
    "complex_num=3-2j\n",
    "#4 Area of a Triangle\n",
    "base= int(input((\"Enter base: \")))\n",
    "height= int(input((\"Enter height: \")))\n",
    "area= 0.5 * base * height\n",
    "print(f\"The area of the triangle is {area}\")\n",
    "\n"
   ]
  },
  {
   "cell_type": "code",
   "execution_count": 6,
   "metadata": {},
   "outputs": [
    {
     "name": "stdout",
     "output_type": "stream",
     "text": [
      "The perimeter of the triangle is 15\n"
     ]
    }
   ],
   "source": [
    "#5 Perimeter of a Triangle\n",
    "side_a= int(input((\"Enter side a: \")))\n",
    "side_b= int(input((\"Enter side b: \")))\n",
    "side_c= int(input((\"Enter side c: \")))\n",
    "perimeter= side_a + side_b + side_c\n",
    "print(f\"The perimeter of the triangle is {perimeter}\")"
   ]
  },
  {
   "cell_type": "code",
   "execution_count": 5,
   "metadata": {},
   "outputs": [
    {
     "name": "stdout",
     "output_type": "stream",
     "text": [
      "The perimeter of the rectangle is 20\n",
      "The area of the rectangle is 25\n"
     ]
    }
   ],
   "source": [
    "#6 Perimeter and Area of a Rectangle\n",
    "width= int(input((\"Enter width: \")))\n",
    "length= int(input((\"Enter length: \")))\n",
    "area = length * width\n",
    "perimeter= 2 * (length + width)\n",
    "print(f\"The perimeter of the rectangle is {perimeter}\")\n",
    "print(f\"The area of the rectangle is {area}\")"
   ]
  },
  {
   "cell_type": "code",
   "execution_count": 8,
   "metadata": {},
   "outputs": [
    {
     "name": "stdout",
     "output_type": "stream",
     "text": [
      "The circumference of the circle is 31\n",
      "The area of the circle is 50\n"
     ]
    }
   ],
   "source": [
    "#7 circumference and Area of a Circle\n",
    "radius= int(input((\"Enter radius: \")))\n",
    "pi= 3.14\n",
    "area = 2 * (radius**2)\n",
    "circumference= int(2 * radius * pi)\n",
    "print(f\"The circumference of the circle is {circumference}\")\n",
    "print(f\"The area of the circle is {area}\")"
   ]
  },
  {
   "cell_type": "code",
   "execution_count": 1,
   "metadata": {},
   "outputs": [
    {
     "name": "stdout",
     "output_type": "stream",
     "text": [
      "Slope (m): 2\n",
      "X-intercept: 1.0\n",
      "Y-intercept (b): -2\n"
     ]
    }
   ],
   "source": [
    "#8 Slope(m) and Intercept(x,y)\n",
    "#The equation y = 2x-2 to find the slope, x-intercept, and y-intercept. The equation is in the form y = mx +b, where m is the slope and b is the y-intercept.\n",
    "# Given equation: y = 2x - 2\n",
    "\n",
    "# Coefficients\n",
    "m = 2  # Slope\n",
    "b = -2  # Y-intercept\n",
    "\n",
    "# Calculate x-intercept (x-intercept occurs when y = 0)\n",
    "x_intercept = -b / m\n",
    "\n",
    "# Display the results\n",
    "print(\"Slope (m):\", m)\n",
    "print(\"X-intercept:\", x_intercept)\n",
    "print(\"Y-intercept (b):\", b)\n"
   ]
  },
  {
   "cell_type": "code",
   "execution_count": 2,
   "metadata": {},
   "outputs": [
    {
     "name": "stdout",
     "output_type": "stream",
     "text": [
      "Slope (m): 2.0\n",
      "Euclidean distance (d): 8.94427190999916\n"
     ]
    }
   ],
   "source": [
    "#9 Finding slope(m) and Euclidean distance (d)\n",
    "import math\n",
    "\n",
    "# Given points\n",
    "x1, y1 = 2, 2\n",
    "x2, y2 = 6, 10\n",
    "\n",
    "# Calculate slope (m)\n",
    "slope = (y2 - y1) / (x2 - x1)\n",
    "\n",
    "# Calculate Euclidean distance (d)\n",
    "distance = math.sqrt((x2 - x1)**2 + (y2 - y1)**2)\n",
    "\n",
    "# Display the results\n",
    "print(\"Slope (m):\", slope)\n",
    "print(\"Euclidean distance (d):\", distance)\n"
   ]
  },
  {
   "cell_type": "code",
   "execution_count": 3,
   "metadata": {},
   "outputs": [
    {
     "name": "stdout",
     "output_type": "stream",
     "text": [
      "The slopes are equal.\n"
     ]
    }
   ],
   "source": [
    "#10 Comparing the slopes\n",
    "# The first slope was declared as \"m\" while the second slope was declared as \"slope\"\n",
    "if m == slope:\n",
    "    print(\"The slopes are equal.\")\n",
    "else:\n",
    "    print(\"The slopes are not equal.\")\n",
    "\n"
   ]
  },
  {
   "cell_type": "code",
   "execution_count": 8,
   "metadata": {},
   "outputs": [
    {
     "name": "stdout",
     "output_type": "stream",
     "text": [
      "For x = -10, y = 49\n",
      "For x = -9, y = 36\n",
      "For x = -8, y = 25\n",
      "For x = -7, y = 16\n",
      "For x = -6, y = 9\n",
      "For x = -5, y = 4\n",
      "For x = -4, y = 1\n",
      "For x = -3, y = 0\n",
      "For x = -2, y = 1\n",
      "For x = -1, y = 4\n",
      "For x = 0, y = 9\n",
      "For x = 1, y = 16\n",
      "For x = 2, y = 25\n",
      "For x = 3, y = 36\n",
      "For x = 4, y = 49\n",
      "For x = 5, y = 64\n",
      "For x = 6, y = 81\n",
      "For x = 7, y = 100\n",
      "For x = 8, y = 121\n",
      "For x = 9, y = 144\n",
      "For x = 10, y = 169\n",
      "     y =0, when x = -3\n"
     ]
    }
   ],
   "source": [
    "#11 \n",
    "def quadratic_equation(x):\n",
    "    return x**2 + 6*x + 9\n",
    "\n",
    "for x_value in range(-10, 11):\n",
    "    y_value = quadratic_equation(x_value)\n",
    "    print(f\"For x = {x_value}, y = {y_value}\")\n",
    "print(\"     y =0, when x = -3\") \n",
    "\n"
   ]
  },
  {
   "cell_type": "code",
   "execution_count": 5,
   "metadata": {},
   "outputs": [
    {
     "name": "stdout",
     "output_type": "stream",
     "text": [
      "The lengths are equal.\n"
     ]
    }
   ],
   "source": [
    "#12 Finding the length of 'python' and 'dragon'\n",
    "length_python = len('python')\n",
    "length_dragon = len('dragon')\n",
    "\n",
    "# Falsy comparison statement\n",
    "if length_python == length_dragon:\n",
    "    print(\"The lengths are equal.\")\n",
    "else:\n",
    "    print(\"The lengths are not equal.\")\n"
   ]
  },
  {
   "cell_type": "code",
   "execution_count": 9,
   "metadata": {},
   "outputs": [
    {
     "name": "stdout",
     "output_type": "stream",
     "text": [
      "'on' is found in both 'python' and 'dragon'.\n"
     ]
    }
   ],
   "source": [
    "#13 Checking if 'on' is found in both 'python' and 'dragon'\n",
    "if 'on' in 'python' and 'on' in 'dragon':\n",
    "    print(\"'on' is found in both 'python' and 'dragon'.\")\n",
    "else:\n",
    "    print(\"'on' is not found in both 'python' and 'dragon'.\")\n"
   ]
  },
  {
   "cell_type": "code",
   "execution_count": 10,
   "metadata": {},
   "outputs": [
    {
     "name": "stdout",
     "output_type": "stream",
     "text": [
      "'jargon' is in the sentence.\n"
     ]
    }
   ],
   "source": [
    "#14 Checking if 'jargon' is in the sentence\n",
    "sentence = \"I hope this course is not full of jargon.\"\n",
    "if 'jargon' in sentence:\n",
    "    print(\"'jargon' is in the sentence.\")\n",
    "else:\n",
    "    print(\"'jargon' is not in the sentence.\")\n"
   ]
  },
  {
   "cell_type": "code",
   "execution_count": 12,
   "metadata": {},
   "outputs": [
    {
     "name": "stdout",
     "output_type": "stream",
     "text": [
      "Length as float: 6.0\n",
      "Length as string: 6\n"
     ]
    }
   ],
   "source": [
    "#15 Finding the length of the text 'python' and changing the data type\n",
    "length_python = len('python')\n",
    "\n",
    "# Convert the length to float and string\n",
    "float_length = float(length_python)\n",
    "str_length = str(length_python)\n",
    "\n",
    "print(\"Length as float:\", float_length)\n",
    "print(\"Length as string:\", str_length)\n"
   ]
  },
  {
   "cell_type": "code",
   "execution_count": 13,
   "metadata": {},
   "outputs": [
    {
     "name": "stdout",
     "output_type": "stream",
     "text": [
      "2 is an even number.\n"
     ]
    }
   ],
   "source": [
    "#16 Function to check if a number is even\n",
    "def is_even(number):\n",
    "    return number % 2 == 0\n",
    "\n",
    "test_number = int(input(\"Enter a test number: \"))\n",
    "if is_even(test_number):\n",
    "    print(f\"{test_number} is an even number.\")\n",
    "else:\n",
    "    print(f\"{test_number} is an odd number.\")\n"
   ]
  },
  {
   "cell_type": "code",
   "execution_count": 14,
   "metadata": {},
   "outputs": [
    {
     "name": "stdout",
     "output_type": "stream",
     "text": [
      "The floor division is equal to the int converted value of 2.7.\n"
     ]
    }
   ],
   "source": [
    "#17 Checking if the floor division of 7 by 3 is equal to the int converted value of 2.7\n",
    "result = 7 // 3\n",
    "int_value = int(2.7)\n",
    "\n",
    "if result == int_value:\n",
    "    print(\"The floor division is equal to the int converted value of 2.7.\")\n",
    "else:\n",
    "    print(\"The floor division is not equal to the int converted value of 2.7.\")\n"
   ]
  },
  {
   "cell_type": "code",
   "execution_count": 15,
   "metadata": {},
   "outputs": [
    {
     "name": "stdout",
     "output_type": "stream",
     "text": [
      "The types are not equal.\n"
     ]
    }
   ],
   "source": [
    "#18 Checking if the type of '10' is equal to the type of 10\n",
    "str_value = '10'\n",
    "int_value = 10\n",
    "\n",
    "if type(str_value) == type(int_value):\n",
    "    print(\"The types are equal.\")\n",
    "else:\n",
    "    print(\"The types are not equal.\")\n"
   ]
  },
  {
   "cell_type": "code",
   "execution_count": 16,
   "metadata": {},
   "outputs": [
    {
     "name": "stdout",
     "output_type": "stream",
     "text": [
      "Error: Cannot convert '9.8' to an integer.\n"
     ]
    }
   ],
   "source": [
    "#19 Checking if int('9.8') is equal to 10\n",
    "try:\n",
    "    converted_value = int('9.8')\n",
    "    if converted_value == 10:\n",
    "        print(\"The converted value is equal to 10.\")\n",
    "    else:\n",
    "        print(\"The converted value is not equal to 10.\")\n",
    "except ValueError:\n",
    "    print(\"Error: Cannot convert '9.8' to an integer.\")\n"
   ]
  },
  {
   "cell_type": "code",
   "execution_count": 17,
   "metadata": {},
   "outputs": [
    {
     "name": "stdout",
     "output_type": "stream",
     "text": [
      "Your weekly earning is 195.00\n"
     ]
    }
   ],
   "source": [
    "#20 Calculate weekly earnings\n",
    "hours = float(input(\"Enter hours: \"))\n",
    "rate_per_hour = float(input(\"Enter rate per hour: \"))\n",
    "weekly_earning = hours * rate_per_hour\n",
    "# Display the result in 2 decimal places\n",
    "print(f\"Your weekly earning is {weekly_earning:.2f}\")\n"
   ]
  },
  {
   "cell_type": "code",
   "execution_count": 18,
   "metadata": {},
   "outputs": [
    {
     "name": "stdout",
     "output_type": "stream",
     "text": [
      "You have lived for 630720000 seconds.\n"
     ]
    }
   ],
   "source": [
    "#21 Calculate the seconds you have lived for\n",
    "years_lived = int(input(\"Enter number of years you have lived: \"))\n",
    "\n",
    "seconds_lived = years_lived * 365 * 24 * 60 * 60\n",
    "print(f\"You have lived for {seconds_lived} seconds.\")\n"
   ]
  },
  {
   "cell_type": "code",
   "execution_count": 29,
   "metadata": {},
   "outputs": [
    {
     "name": "stdout",
     "output_type": "stream",
     "text": [
      "1 1 1 1 1\n",
      "2 1 2 4 8\n",
      "3 1 3 9 27\n",
      "4 1 4 16 64\n",
      "5 1 5 25 125\n"
     ]
    }
   ],
   "source": [
    "#22 Display the table\n",
    "for i in range(1, 6):\n",
    "    row = [i] + [1 for _ in range(1)] + [i**j for j in range(1, 4)]\n",
    "    print(\" \".join(map(str, row)))\n"
   ]
  }
 ],
 "metadata": {
  "kernelspec": {
   "display_name": "datascience",
   "language": "python",
   "name": "python3"
  },
  "language_info": {
   "codemirror_mode": {
    "name": "ipython",
    "version": 3
   },
   "file_extension": ".py",
   "mimetype": "text/x-python",
   "name": "python",
   "nbconvert_exporter": "python",
   "pygments_lexer": "ipython3",
   "version": "3.8.18"
  }
 },
 "nbformat": 4,
 "nbformat_minor": 2
}
