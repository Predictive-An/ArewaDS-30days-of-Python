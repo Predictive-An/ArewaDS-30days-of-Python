{
 "cells": [
  {
   "cell_type": "markdown",
   "metadata": {},
   "source": [
    "# Exercise: Day 21"
   ]
  },
  {
   "cell_type": "markdown",
   "metadata": {},
   "source": [
    "##  Classes and Objects"
   ]
  },
  {
   "cell_type": "markdown",
   "metadata": {},
   "source": [
    "### Exercise: Level 1"
   ]
  },
  {
   "cell_type": "code",
   "execution_count": 7,
   "metadata": {},
   "outputs": [],
   "source": [
    "#1\n",
    "class Statistics:\n",
    "    def __init__(self, statistics_calculator):\n",
    "        self.statistics_calculator = statistics_calculator\n",
    "\n",
    "    def mean(self):\n",
    "        return sum(self.statistics_calculator) / len(self.statistics_calculator)\n",
    "\n",
    "    def median(self):\n",
    "        sorted_statistics_calculator = sorted(self.statistics_calculator)\n",
    "        n = len(sorted_statistics_calculator)\n",
    "        if n % 2 == 0:\n",
    "            mid1 = sorted_statistics_calculator[n // 2 - 1]\n",
    "            mid2 = sorted_statistics_calculator[n // 2]\n",
    "            return (mid1 + mid2) / 2\n",
    "        else:\n",
    "            return sorted_statistics_calculator[n // 2]\n",
    "\n",
    "    def mode(self):\n",
    "        counts = {}\n",
    "        for value in self.statistics_calculator:\n",
    "            counts[value] = counts.get(value, 0) + 1\n",
    "        modes = [key for key, count in counts.items() if count == max(counts.values())]\n",
    "        return modes\n",
    "\n",
    "    def range(self):\n",
    "        return max(self.statistics_calculator) - min(self.statistics_calculator)\n",
    "\n",
    "    def var(self):\n",
    "        mean_value = self.mean()\n",
    "        return sum((x - mean_value) ** 2 for x in self.statistics_calculator) / len(self.statistics_calculator)\n",
    "\n",
    "    def std(self):\n",
    "        return (self.var())**0.5\n",
    "\n",
    "    def min(self):\n",
    "        return min(self.statistics_calculator)\n",
    "\n",
    "    def max(self):\n",
    "        return max(self.statistics_calculator)\n",
    "\n",
    "    def count(self):\n",
    "        return len(self.statistics_calculator)\n",
    "\n",
    "    def percentile(self, percentile):\n",
    "        sorted_statistics_calculator = sorted(self.statistics_calculator)\n",
    "        index = int((percentile / 100) * len(sorted_statistics_calculator))\n",
    "        return sorted_statistics_calculator[index]\n",
    "\n",
    "    def freq_dist(self):\n",
    "        counts = {}\n",
    "        for value in self.statistics_calculator:\n",
    "            counts[value] = counts.get(value, 0) + 1\n",
    "        return counts\n",
    "\n",
    "    def sum(self):\n",
    "        return sum(self.statistics_calculator)"
   ]
  },
  {
   "cell_type": "code",
   "execution_count": 9,
   "metadata": {},
   "outputs": [
    {
     "name": "stdout",
     "output_type": "stream",
     "text": [
      "Count: 25\n",
      "Sum:  744\n",
      "Min:  24\n",
      "Max:  38\n",
      "Range:  14\n",
      "Mean:  29.76\n",
      "Median:  29\n",
      "Mode:  [26]\n",
      "Standard Deviation:  4.188364836066696\n",
      "Variance:  17.5424\n",
      "Frequency Distribution:  {31: 2, 26: 5, 34: 2, 37: 2, 27: 4, 32: 3, 24: 2, 33: 2, 25: 1, 38: 1, 29: 1}\n",
      "25th Percentile: 26\n",
      "75th Percentile: 33\n"
     ]
    }
   ],
   "source": [
    "ages = [31, 26, 34, 37, 27, 26, 32, 32, 26, 27, 27, 24, 32, 33, 27, 25, 26, 38, 37, 31, 34, 24, 33, 29, 26]\n",
    "\n",
    "statistics_calculator = Statistics(ages)\n",
    "print('Count:', statistics_calculator.count()) # 25\n",
    "print('Sum: ', statistics_calculator.sum()) # 744\n",
    "print('Min: ', statistics_calculator.min()) # 24\n",
    "print('Max: ', statistics_calculator.max()) # 38\n",
    "print('Range: ', statistics_calculator.range()) # 14\n",
    "print('Mean: ', statistics_calculator.mean()) # 30\n",
    "print('Median: ', statistics_calculator.median()) # 29\n",
    "print('Mode: ', statistics_calculator.mode()) # {'mode': 26, 'count': 5}\n",
    "print('Standard Deviation: ', statistics_calculator.std()) # 4.2\n",
    "print('Variance: ', statistics_calculator.var()) # 17.5\n",
    "print('Frequency Distribution: ', statistics_calculator.freq_dist())\n",
    "print(f\"25th Percentile: {statistics_calculator.percentile(25)}\")\n",
    "print(f\"75th Percentile: {statistics_calculator.percentile(75)}\")"
   ]
  },
  {
   "cell_type": "markdown",
   "metadata": {},
   "source": [
    "### Exercise: Level 2"
   ]
  },
  {
   "cell_type": "code",
   "execution_count": 10,
   "metadata": {},
   "outputs": [],
   "source": [
    "#1\n",
    "class PersonAccount:\n",
    "    def __init__(self, firstname, lastname):\n",
    "        self.firstname = firstname\n",
    "        self.lastname = lastname\n",
    "        self.incomes = {}  # A dictionary to store incomes and their descriptions\n",
    "        self.expenses = {}  \n",
    "    def add_income(self, amount, description):\n",
    "        self.incomes[description] = amount\n",
    "\n",
    "    def add_expense(self, amount, description):\n",
    "        self.expenses[description] = amount\n",
    "\n",
    "    def total_income(self):\n",
    "        return sum(self.incomes.values())\n",
    "\n",
    "    def total_expense(self):\n",
    "        return sum(self.expenses.values())\n",
    "\n",
    "    def account_info(self):\n",
    "        return f\"{self.firstname} {self.lastname}'s Account Information:\\n\" \\\n",
    "               f\"Total Income: {self.total_income()}\\n\" \\\n",
    "               f\"Total Expense: {self.total_expense()}\\n\" \\\n",
    "               f\"Account Balance: {self.account_balance()}\"\n",
    "\n",
    "    def account_balance(self):\n",
    "        return self.total_income() - self.total_expense()\n",
    "\n"
   ]
  },
  {
   "cell_type": "code",
   "execution_count": 11,
   "metadata": {},
   "outputs": [
    {
     "name": "stdout",
     "output_type": "stream",
     "text": [
      "John Doe's Account Information:\n",
      "Total Income: 1200\n",
      "Total Expense: 350\n",
      "Account Balance: 850\n"
     ]
    }
   ],
   "source": [
    "# Example\n",
    "person_account = PersonAccount(\"John\", \"Doe\")\n",
    "\n",
    "person_account.add_income(1000, \"Salary\")\n",
    "person_account.add_income(200, \"Freelance Work\")\n",
    "\n",
    "person_account.add_expense(300, \"Rent\")\n",
    "person_account.add_expense(50, \"Utilities\")\n",
    "\n",
    "# Displaying account information\n",
    "print(person_account.account_info())"
   ]
  }
 ],
 "metadata": {
  "kernelspec": {
   "display_name": "datascience",
   "language": "python",
   "name": "python3"
  },
  "language_info": {
   "codemirror_mode": {
    "name": "ipython",
    "version": 3
   },
   "file_extension": ".py",
   "mimetype": "text/x-python",
   "name": "python",
   "nbconvert_exporter": "python",
   "pygments_lexer": "ipython3",
   "version": "3.8.18"
  }
 },
 "nbformat": 4,
 "nbformat_minor": 2
}
